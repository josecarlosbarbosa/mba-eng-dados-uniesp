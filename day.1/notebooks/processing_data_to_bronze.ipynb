{
 "cells": [
  {
   "cell_type": "code",
   "execution_count": 1,
   "metadata": {},
   "outputs": [],
   "source": [
    "from pyspark.sql import SparkSession"
   ]
  },
  {
   "cell_type": "code",
   "execution_count": 2,
   "metadata": {},
   "outputs": [
    {
     "name": "stderr",
     "output_type": "stream",
     "text": [
      "22/09/23 14:42:41 WARN Utils: Your hostname, Carloss-MacBook-Pro.local resolves to a loopback address: 127.0.0.1; using 172.20.10.4 instead (on interface en0)\n",
      "22/09/23 14:42:41 WARN Utils: Set SPARK_LOCAL_IP if you need to bind to another address\n"
     ]
    },
    {
     "name": "stdout",
     "output_type": "stream",
     "text": [
      ":: loading settings :: url = jar:file:/opt/homebrew/lib/python3.9/site-packages/pyspark/jars/ivy-2.5.0.jar!/org/apache/ivy/core/settings/ivysettings.xml\n"
     ]
    },
    {
     "name": "stderr",
     "output_type": "stream",
     "text": [
      "Ivy Default Cache set to: /Users/carlosbarbosa/.ivy2/cache\n",
      "The jars for the packages stored in: /Users/carlosbarbosa/.ivy2/jars\n",
      "io.delta#delta-core_2.12 added as a dependency\n",
      ":: resolving dependencies :: org.apache.spark#spark-submit-parent-34c14ee6-77a3-4df7-bc4a-e8700ef463ac;1.0\n",
      "\tconfs: [default]\n",
      "\tfound io.delta#delta-core_2.12;2.1.0 in central\n",
      "\tfound io.delta#delta-storage;2.1.0 in central\n",
      "\tfound org.antlr#antlr4-runtime;4.8 in central\n",
      "\tfound org.codehaus.jackson#jackson-core-asl;1.9.13 in central\n",
      ":: resolution report :: resolve 367ms :: artifacts dl 25ms\n",
      "\t:: modules in use:\n",
      "\tio.delta#delta-core_2.12;2.1.0 from central in [default]\n",
      "\tio.delta#delta-storage;2.1.0 from central in [default]\n",
      "\torg.antlr#antlr4-runtime;4.8 from central in [default]\n",
      "\torg.codehaus.jackson#jackson-core-asl;1.9.13 from central in [default]\n",
      "\t---------------------------------------------------------------------\n",
      "\t|                  |            modules            ||   artifacts   |\n",
      "\t|       conf       | number| search|dwnlded|evicted|| number|dwnlded|\n",
      "\t---------------------------------------------------------------------\n",
      "\t|      default     |   4   |   0   |   0   |   0   ||   4   |   0   |\n",
      "\t---------------------------------------------------------------------\n",
      ":: retrieving :: org.apache.spark#spark-submit-parent-34c14ee6-77a3-4df7-bc4a-e8700ef463ac\n",
      "\tconfs: [default]\n",
      "\t0 artifacts copied, 4 already retrieved (0kB/16ms)\n",
      "22/09/23 14:42:43 WARN NativeCodeLoader: Unable to load native-hadoop library for your platform... using builtin-java classes where applicable\n",
      "Using Spark's default log4j profile: org/apache/spark/log4j-defaults.properties\n",
      "Setting default log level to \"WARN\".\n",
      "To adjust logging level use sc.setLogLevel(newLevel). For SparkR, use setLogLevel(newLevel).\n"
     ]
    }
   ],
   "source": [
    "spark = (\n",
    "    \n",
    "    SparkSession\n",
    "            .builder\n",
    "            .config('spark.jars.packages', 'io.delta:delta-core_2.12:2.1.0')\n",
    "            .config('spark.sql.extensions', 'io.delta.sql.DeltaSparkSessionExtension')\n",
    "            .config('spark.sql.catalog.spark_catalog', 'org.apache.spark.sql.delta.catalog.DeltaCatalog')\n",
    "            .getOrCreate()\n",
    "            \n",
    ")"
   ]
  },
  {
   "cell_type": "code",
   "execution_count": 22,
   "metadata": {},
   "outputs": [],
   "source": [
    "advices = (\n",
    "    spark\n",
    "    .read\n",
    "    .format('csv')\n",
    "    .option('header', True)\n",
    "    .load('../datalake/landing-zone/advices/')\n",
    ")"
   ]
  },
  {
   "cell_type": "code",
   "execution_count": 23,
   "metadata": {},
   "outputs": [
    {
     "name": "stdout",
     "output_type": "stream",
     "text": [
      "-RECORD 0----------------------------------------------------------------------------------------------------------------------------\n",
      " id     | 149                                                                                                                        \n",
      " advice | As things get closer to the light, the shadows get darker.                                                                 \n",
      "-RECORD 1----------------------------------------------------------------------------------------------------------------------------\n",
      " id     | 160                                                                                                                        \n",
      " advice | Enjoy a little nonsense now and then.                                                                                      \n",
      "-RECORD 2----------------------------------------------------------------------------------------------------------------------------\n",
      " id     | 66                                                                                                                         \n",
      " advice | Take time once in a while to look up at the stars for at least 5 minutes, in order to comprehend your cosmic significance. \n",
      "-RECORD 3----------------------------------------------------------------------------------------------------------------------------\n",
      " id     | 217                                                                                                                        \n",
      " advice | Identify sources of happiness.                                                                                             \n",
      "-RECORD 4----------------------------------------------------------------------------------------------------------------------------\n",
      " id     | 60                                                                                                                         \n",
      " advice | Fail. Fail again. Fail better.                                                                                             \n",
      "-RECORD 5----------------------------------------------------------------------------------------------------------------------------\n",
      " id     | 190                                                                                                                        \n",
      " advice | Don't always believe what you think.                                                                                       \n",
      "-RECORD 6----------------------------------------------------------------------------------------------------------------------------\n",
      " id     | 98                                                                                                                         \n",
      " advice | It's always the quiet ones.                                                                                                \n",
      "-RECORD 7----------------------------------------------------------------------------------------------------------------------------\n",
      " id     | 82                                                                                                                         \n",
      " advice | For every complex problem there is an answer that is clear, simple, and wrong.                                             \n",
      "-RECORD 8----------------------------------------------------------------------------------------------------------------------------\n",
      " id     | 131                                                                                                                        \n",
      " advice | YOLO                                                                                                                       \n",
      "\n"
     ]
    }
   ],
   "source": [
    "advices.show(vertical=True, truncate=False)"
   ]
  },
  {
   "cell_type": "code",
   "execution_count": 24,
   "metadata": {},
   "outputs": [
    {
     "name": "stdout",
     "output_type": "stream",
     "text": [
      "+---+--------------------+\n",
      "| id|              advice|\n",
      "+---+--------------------+\n",
      "|149|As things get clo...|\n",
      "|160|Enjoy a little no...|\n",
      "| 66|Take time once in...|\n",
      "|217|Identify sources ...|\n",
      "| 60|Fail. Fail again....|\n",
      "|190|Don't always beli...|\n",
      "| 98|It's always the q...|\n",
      "| 82|For every complex...|\n",
      "|131|                YOLO|\n",
      "+---+--------------------+\n",
      "\n"
     ]
    }
   ],
   "source": [
    "advices.show()"
   ]
  },
  {
   "cell_type": "code",
   "execution_count": 27,
   "metadata": {},
   "outputs": [
    {
     "name": "stderr",
     "output_type": "stream",
     "text": [
      "                                                                                \r"
     ]
    }
   ],
   "source": [
    "(\n",
    "    advices\n",
    "    .write\n",
    "    .format('delta')\n",
    "    .mode('overwrite')\n",
    "    .save('../datalake/bronze/advices')\n",
    ")"
   ]
  }
 ],
 "metadata": {
  "kernelspec": {
   "display_name": "Python 3.9.13 64-bit",
   "language": "python",
   "name": "python3"
  },
  "language_info": {
   "codemirror_mode": {
    "name": "ipython",
    "version": 3
   },
   "file_extension": ".py",
   "mimetype": "text/x-python",
   "name": "python",
   "nbconvert_exporter": "python",
   "pygments_lexer": "ipython3",
   "version": "3.9.13"
  },
  "orig_nbformat": 4,
  "vscode": {
   "interpreter": {
    "hash": "b0fa6594d8f4cbf19f97940f81e996739fb7646882a419484c72d19e05852a7e"
   }
  }
 },
 "nbformat": 4,
 "nbformat_minor": 2
}
