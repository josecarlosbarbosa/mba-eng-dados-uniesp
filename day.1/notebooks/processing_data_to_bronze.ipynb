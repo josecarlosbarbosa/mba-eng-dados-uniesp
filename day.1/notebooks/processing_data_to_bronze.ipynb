{
 "cells": [
  {
   "cell_type": "code",
   "execution_count": 5,
   "metadata": {},
   "outputs": [],
   "source": [
    "from pyspark.sql import SparkSession"
   ]
  },
  {
   "cell_type": "code",
   "execution_count": 7,
   "metadata": {},
   "outputs": [],
   "source": [
    "spark = (\n",
    "    \n",
    "    SparkSession\n",
    "            .builder\n",
    "            .config('spark.jars.packages', 'io.delta:delta-core_2.12:2.1.0')\n",
    "            .config('spark.sql.extensions', 'io.delta.sql.DeltaSparkSessionExtension')\n",
    "            .config('spark.sql.catalog.spark_catalog', 'org.apache.spark.sql.delta.catalog.DeltaCatalog')\n",
    "            .getOrCreate()\n",
    "            \n",
    ")"
   ]
  },
  {
   "cell_type": "code",
   "execution_count": 8,
   "metadata": {},
   "outputs": [],
   "source": [
    "advices = (\n",
    "    spark\n",
    "    .read\n",
    "    .format('csv')\n",
    "    .option('header', True)\n",
    "    .load('../datalake/landing-zone/advices/')\n",
    ")"
   ]
  },
  {
   "cell_type": "code",
   "execution_count": 9,
   "metadata": {},
   "outputs": [
    {
     "name": "stdout",
     "output_type": "stream",
     "text": [
      "-RECORD 0----------------------------------------------------------------------------------------------------------------------------\n",
      " id     | 18                                                                                                                         \n",
      " advice | Don't judge a book by its cover, unless it has a synopsis on the back.                                                     \n",
      "-RECORD 1----------------------------------------------------------------------------------------------------------------------------\n",
      " id     | 161                                                                                                                        \n",
      " advice | You have as many hours in a day as the people you admire most.                                                             \n",
      "-RECORD 2----------------------------------------------------------------------------------------------------------------------------\n",
      " id     | 215                                                                                                                        \n",
      " advice | Once you find a really good friend don't do anything that could mess up your friendship.                                   \n",
      "-RECORD 3----------------------------------------------------------------------------------------------------------------------------\n",
      " id     | 13                                                                                                                         \n",
      " advice | If you're feeling tired or anxious, a pint of water will almost always make you feel better.                               \n",
      "-RECORD 4----------------------------------------------------------------------------------------------------------------------------\n",
      " id     | 148                                                                                                                        \n",
      " advice | Some people would be better off if they took their own advice.                                                             \n",
      "-RECORD 5----------------------------------------------------------------------------------------------------------------------------\n",
      " id     | 97                                                                                                                         \n",
      " advice | If you are ever in doubt about whether or not to wash your hair: Wash it.                                                  \n",
      "-RECORD 6----------------------------------------------------------------------------------------------------------------------------\n",
      " id     | 106                                                                                                                        \n",
      " advice | A problem shared is a problem halved.                                                                                      \n",
      "-RECORD 7----------------------------------------------------------------------------------------------------------------------------\n",
      " id     | 163                                                                                                                        \n",
      " advice | Big things have small beginnings.                                                                                          \n",
      "-RECORD 8----------------------------------------------------------------------------------------------------------------------------\n",
      " id     | 117                                                                                                                        \n",
      " advice | A common regret in life is wishing one hadn't worked so hard.                                                              \n",
      "-RECORD 9----------------------------------------------------------------------------------------------------------------------------\n",
      " id     | 149                                                                                                                        \n",
      " advice | As things get closer to the light, the shadows get darker.                                                                 \n",
      "-RECORD 10---------------------------------------------------------------------------------------------------------------------------\n",
      " id     | 160                                                                                                                        \n",
      " advice | Enjoy a little nonsense now and then.                                                                                      \n",
      "-RECORD 11---------------------------------------------------------------------------------------------------------------------------\n",
      " id     | 66                                                                                                                         \n",
      " advice | Take time once in a while to look up at the stars for at least 5 minutes, in order to comprehend your cosmic significance. \n",
      "-RECORD 12---------------------------------------------------------------------------------------------------------------------------\n",
      " id     | 217                                                                                                                        \n",
      " advice | Identify sources of happiness.                                                                                             \n",
      "-RECORD 13---------------------------------------------------------------------------------------------------------------------------\n",
      " id     | 60                                                                                                                         \n",
      " advice | Fail. Fail again. Fail better.                                                                                             \n",
      "-RECORD 14---------------------------------------------------------------------------------------------------------------------------\n",
      " id     | 190                                                                                                                        \n",
      " advice | Don't always believe what you think.                                                                                       \n",
      "-RECORD 15---------------------------------------------------------------------------------------------------------------------------\n",
      " id     | 98                                                                                                                         \n",
      " advice | It's always the quiet ones.                                                                                                \n",
      "-RECORD 16---------------------------------------------------------------------------------------------------------------------------\n",
      " id     | 82                                                                                                                         \n",
      " advice | For every complex problem there is an answer that is clear, simple, and wrong.                                             \n",
      "-RECORD 17---------------------------------------------------------------------------------------------------------------------------\n",
      " id     | 131                                                                                                                        \n",
      " advice | YOLO                                                                                                                       \n",
      "\n"
     ]
    }
   ],
   "source": [
    "advices.show(vertical=True, truncate=False)"
   ]
  },
  {
   "cell_type": "code",
   "execution_count": 10,
   "metadata": {},
   "outputs": [
    {
     "name": "stderr",
     "output_type": "stream",
     "text": [
      "                                                                                \r"
     ]
    }
   ],
   "source": [
    "(\n",
    "    advices\n",
    "    .write\n",
    "    .format('delta')\n",
    "    .mode('overwrite')\n",
    "    .save('../datalake/bronze/advices')\n",
    ")"
   ]
  }
 ],
 "metadata": {
  "kernelspec": {
   "display_name": "Python 3.10.4 64-bit",
   "language": "python",
   "name": "python3"
  },
  "language_info": {
   "codemirror_mode": {
    "name": "ipython",
    "version": 3
   },
   "file_extension": ".py",
   "mimetype": "text/x-python",
   "name": "python",
   "nbconvert_exporter": "python",
   "pygments_lexer": "ipython3",
   "version": "3.10.4"
  },
  "orig_nbformat": 4,
  "vscode": {
   "interpreter": {
    "hash": "916dbcbb3f70747c44a77c7bcd40155683ae19c65e1c03b4aa3499c5328201f1"
   }
  }
 },
 "nbformat": 4,
 "nbformat_minor": 2
}
