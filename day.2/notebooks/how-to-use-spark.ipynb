{
 "cells": [
  {
   "cell_type": "markdown",
   "metadata": {},
   "source": [
    "<h1>Pyspark Guide</h1> "
   ]
  },
  {
   "cell_type": "code",
   "execution_count": 1,
   "metadata": {},
   "outputs": [],
   "source": [
    "import pyspark.sql.functions as f\n",
    "import pyspark.sql.types     as t\n",
    "from pyspark.sql import SparkSession"
   ]
  },
  {
   "cell_type": "code",
   "execution_count": 2,
   "metadata": {
    "id": "zxPiWcDeLVek"
   },
   "outputs": [
    {
     "name": "stderr",
     "output_type": "stream",
     "text": [
      "22/09/24 06:41:38 WARN Utils: Your hostname, desktop-pro resolves to a loopback address: 127.0.1.1; using 172.29.28.57 instead (on interface eth0)\n",
      "22/09/24 06:41:38 WARN Utils: Set SPARK_LOCAL_IP if you need to bind to another address\n",
      "Using Spark's default log4j profile: org/apache/spark/log4j-defaults.properties\n",
      "Setting default log level to \"WARN\".\n",
      "To adjust logging level use sc.setLogLevel(newLevel). For SparkR, use setLogLevel(newLevel).\n",
      "22/09/24 06:41:39 WARN NativeCodeLoader: Unable to load native-hadoop library for your platform... using builtin-java classes where applicable\n",
      "22/09/24 06:41:39 WARN Utils: Service 'SparkUI' could not bind on port 4040. Attempting port 4041.\n"
     ]
    }
   ],
   "source": [
    "spark = (\n",
    "    SparkSession.builder\n",
    "                    .config(\"spark.executor.memory\", \"4G\")\n",
    "                    .config(\"spark.sql.repl.eagerEval.enabled\", True)\n",
    "                    .config(\"spark.sql.repl.eagerEval.maxNumRows\", 10)\n",
    "                    .appName(\"how to use spark\")\n",
    "                    .getOrCreate()\n",
    ")"
   ]
  },
  {
   "cell_type": "code",
   "execution_count": 3,
   "metadata": {
    "colab": {
     "base_uri": "https://localhost:8080/",
     "height": 216
    },
    "id": "duEd_7UImEoj",
    "outputId": "a7d518bb-7a74-4099-d1ee-f9ad0ba26dff"
   },
   "outputs": [
    {
     "data": {
      "text/html": [
       "\n",
       "            <div>\n",
       "                <p><b>SparkSession - in-memory</b></p>\n",
       "                \n",
       "        <div>\n",
       "            <p><b>SparkContext</b></p>\n",
       "\n",
       "            <p><a href=\"http://172.29.28.57:4041\">Spark UI</a></p>\n",
       "\n",
       "            <dl>\n",
       "              <dt>Version</dt>\n",
       "                <dd><code>v3.2.1</code></dd>\n",
       "              <dt>Master</dt>\n",
       "                <dd><code>local[*]</code></dd>\n",
       "              <dt>AppName</dt>\n",
       "                <dd><code>how to use spark</code></dd>\n",
       "            </dl>\n",
       "        </div>\n",
       "        \n",
       "            </div>\n",
       "        "
      ],
      "text/plain": [
       "<pyspark.sql.session.SparkSession at 0x7fae27aeed10>"
      ]
     },
     "execution_count": 3,
     "metadata": {},
     "output_type": "execute_result"
    }
   ],
   "source": [
    "spark"
   ]
  },
  {
   "cell_type": "code",
   "execution_count": 4,
   "metadata": {
    "id": "UoSLA6UkONms"
   },
   "outputs": [],
   "source": [
    "file_path_parquet = \"./data-parquet/\"\n",
    "file_path_parquet_user = \"./data-user-parquet/\"\n",
    "file_path_csv = \"./data-csv/\""
   ]
  },
  {
   "cell_type": "markdown",
   "metadata": {},
   "source": [
    "## Lendo Arquivos [Parquet]"
   ]
  },
  {
   "cell_type": "code",
   "execution_count": 5,
   "metadata": {},
   "outputs": [
    {
     "data": {
      "text/plain": [
       "'./data-parquet/'"
      ]
     },
     "execution_count": 5,
     "metadata": {},
     "output_type": "execute_result"
    }
   ],
   "source": [
    "file_path_parquet"
   ]
  },
  {
   "cell_type": "code",
   "execution_count": 6,
   "metadata": {},
   "outputs": [],
   "source": [
    "df_parquet = (\n",
    "    spark\n",
    "    .read\n",
    "    .format(\"parquet\")\n",
    "    .load(file_path_parquet)\n",
    ")"
   ]
  },
  {
   "cell_type": "code",
   "execution_count": 7,
   "metadata": {},
   "outputs": [
    {
     "data": {
      "text/html": [
       "<table border='1'>\n",
       "<tr><th>account_number</th><th>bank_name</th><th>dt_current_timestamp</th><th>iban</th><th>id</th><th>routing_number</th><th>swift_bic</th><th>uid</th><th>user_id</th></tr>\n",
       "<tr><td>0267608433</td><td>ABN AMRO CORPORAT...</td><td>1619454485308</td><td>GB78DZFZ380630884...</td><td>1957</td><td>295965484</td><td>BSABGB2LXXX</td><td>8b3f376b-0adf-4f8...</td><td>5641</td></tr>\n",
       "<tr><td>7052327864</td><td>ABN AMRO HOARE GO...</td><td>1619454485308</td><td>GB29ZZRW634222451...</td><td>4911</td><td>274059719</td><td>AAFMGB21</td><td>0bb4c571-a21d-461...</td><td>3006</td></tr>\n",
       "<tr><td>3296123731</td><td>ABINGWORTH MANAGE...</td><td>1619454485308</td><td>GB27LPUN514365223...</td><td>5275</td><td>314786939</td><td>BSABGB2LXXX</td><td>c3d9ea2c-5e58-416...</td><td>9348</td></tr>\n",
       "<tr><td>3455902680</td><td>UBS CLEARING AND ...</td><td>1619454485308</td><td>GB84VPOW303511892...</td><td>7312</td><td>256999143</td><td>AIBKGB2XTSY</td><td>c188b6ac-e5da-4c9...</td><td>4920</td></tr>\n",
       "<tr><td>6799197420</td><td>ABN AMRO QUOTED I...</td><td>1619454485308</td><td>GB73LSLX976213143...</td><td>1428</td><td>219280860</td><td>BOFAGB22SEC</td><td>72a2f0eb-657b-477...</td><td>9612</td></tr>\n",
       "<tr><td>3734311084</td><td>ABN AMRO HOARE GO...</td><td>1619454485308</td><td>GB44BRFS970776726...</td><td>258</td><td>712952857</td><td>ABCCGB22</td><td>625d209c-00fd-429...</td><td>8354</td></tr>\n",
       "<tr><td>2074989437</td><td>ALLIED BANK PHILI...</td><td>1619454485308</td><td>GB72RJCG710095607...</td><td>4639</td><td>721592567</td><td>BOFAGB3SSWI</td><td>bbcd32b6-23c0-453...</td><td>8029</td></tr>\n",
       "<tr><td>8638293794</td><td>ABBOTSTONE AGRICU...</td><td>1619454485308</td><td>GB54HCJD358743036...</td><td>194</td><td>113613258</td><td>BOFAGB22OF2</td><td>7dd2e788-7482-405...</td><td>7</td></tr>\n",
       "<tr><td>2432252121</td><td>ABBOTSTONE AGRICU...</td><td>1619454485308</td><td>GB70AFAV412241071...</td><td>1104</td><td>249410587</td><td>ABBYGB2L</td><td>f9aa6f43-a445-437...</td><td>1654</td></tr>\n",
       "<tr><td>1037172675</td><td>ALKEN ASSET MANAG...</td><td>1619454485308</td><td>GB53WVHS695074027...</td><td>1149</td><td>216860869</td><td>ABAZGB21</td><td>a593098e-c986-47d...</td><td>7280</td></tr>\n",
       "</table>\n",
       "only showing top 10 rows\n"
      ],
      "text/plain": [
       "+--------------+--------------------+--------------------+--------------------+----+--------------+-----------+--------------------+-------+\n",
       "|account_number|           bank_name|dt_current_timestamp|                iban|  id|routing_number|  swift_bic|                 uid|user_id|\n",
       "+--------------+--------------------+--------------------+--------------------+----+--------------+-----------+--------------------+-------+\n",
       "|    0267608433|ABN AMRO CORPORAT...|       1619454485308|GB78DZFZ380630884...|1957|     295965484|BSABGB2LXXX|8b3f376b-0adf-4f8...|   5641|\n",
       "|    7052327864|ABN AMRO HOARE GO...|       1619454485308|GB29ZZRW634222451...|4911|     274059719|   AAFMGB21|0bb4c571-a21d-461...|   3006|\n",
       "|    3296123731|ABINGWORTH MANAGE...|       1619454485308|GB27LPUN514365223...|5275|     314786939|BSABGB2LXXX|c3d9ea2c-5e58-416...|   9348|\n",
       "|    3455902680|UBS CLEARING AND ...|       1619454485308|GB84VPOW303511892...|7312|     256999143|AIBKGB2XTSY|c188b6ac-e5da-4c9...|   4920|\n",
       "|    6799197420|ABN AMRO QUOTED I...|       1619454485308|GB73LSLX976213143...|1428|     219280860|BOFAGB22SEC|72a2f0eb-657b-477...|   9612|\n",
       "|    3734311084|ABN AMRO HOARE GO...|       1619454485308|GB44BRFS970776726...| 258|     712952857|   ABCCGB22|625d209c-00fd-429...|   8354|\n",
       "|    2074989437|ALLIED BANK PHILI...|       1619454485308|GB72RJCG710095607...|4639|     721592567|BOFAGB3SSWI|bbcd32b6-23c0-453...|   8029|\n",
       "|    8638293794|ABBOTSTONE AGRICU...|       1619454485308|GB54HCJD358743036...| 194|     113613258|BOFAGB22OF2|7dd2e788-7482-405...|      7|\n",
       "|    2432252121|ABBOTSTONE AGRICU...|       1619454485308|GB70AFAV412241071...|1104|     249410587|   ABBYGB2L|f9aa6f43-a445-437...|   1654|\n",
       "|    1037172675|ALKEN ASSET MANAG...|       1619454485308|GB53WVHS695074027...|1149|     216860869|   ABAZGB21|a593098e-c986-47d...|   7280|\n",
       "+--------------+--------------------+--------------------+--------------------+----+--------------+-----------+--------------------+-------+\n",
       "only showing top 10 rows"
      ]
     },
     "execution_count": 7,
     "metadata": {},
     "output_type": "execute_result"
    }
   ],
   "source": [
    "df_parquet"
   ]
  },
  {
   "cell_type": "markdown",
   "metadata": {},
   "source": [
    "## Lendo Arquivos [CSV]"
   ]
  },
  {
   "cell_type": "code",
   "execution_count": 8,
   "metadata": {},
   "outputs": [],
   "source": [
    "df_csv = spark.read.format(\"csv\").option(\"header\", True).option(\"inferSchema\", True).load(file_path_csv)"
   ]
  },
  {
   "cell_type": "code",
   "execution_count": 9,
   "metadata": {},
   "outputs": [
    {
     "name": "stdout",
     "output_type": "stream",
     "text": [
      "root\n",
      " |-- account_number: long (nullable = true)\n",
      " |-- bank_name: string (nullable = true)\n",
      " |-- dt_current_timestamp: long (nullable = true)\n",
      " |-- iban: string (nullable = true)\n",
      " |-- id: integer (nullable = true)\n",
      " |-- routing_number: integer (nullable = true)\n",
      " |-- swift_bic: string (nullable = true)\n",
      " |-- uid: string (nullable = true)\n",
      " |-- user_id: integer (nullable = true)\n",
      "\n"
     ]
    }
   ],
   "source": [
    "df_csv.printSchema()"
   ]
  },
  {
   "cell_type": "markdown",
   "metadata": {},
   "source": [
    "### Corrigindo a leitura do Dataframe em CSV"
   ]
  },
  {
   "cell_type": "code",
   "execution_count": 10,
   "metadata": {},
   "outputs": [],
   "source": [
    "args_dict = {\n",
    "    'header': True,\n",
    "    'sep': ',',\n",
    "    'encoding': 'utf-8',\n",
    "    'inferSchema': True,\n",
    "}\n",
    "\n",
    "df_csv = spark.read.format(\"csv\").options(**args_dict).load(file_path_csv)"
   ]
  },
  {
   "cell_type": "code",
   "execution_count": 11,
   "metadata": {},
   "outputs": [
    {
     "data": {
      "text/html": [
       "<table border='1'>\n",
       "<tr><th>account_number</th><th>bank_name</th><th>dt_current_timestamp</th><th>iban</th><th>id</th><th>routing_number</th><th>swift_bic</th><th>uid</th><th>user_id</th></tr>\n",
       "<tr><td>7320834088</td><td>ABN AMRO HOARE GO...</td><td>1621352186397</td><td>GB50RCLB435176715...</td><td>4796</td><td>251572316</td><td>BOFAGB4TIPA</td><td>e90b2938-deb5-430...</td><td>9975</td></tr>\n",
       "<tr><td>7467060749</td><td>ABN AMRO MEZZANIN...</td><td>1621352186397</td><td>GB44TYKV551022700...</td><td>861</td><td>300679144</td><td>ANTSGB2LCHA</td><td>f6fa9d04-f772-4b0...</td><td>9926</td></tr>\n",
       "<tr><td>5010092952</td><td>ABN AMRO HOARE GO...</td><td>1621352186397</td><td>GB87IIXG134617446...</td><td>1807</td><td>706669295</td><td>UBKLGB2LXXX</td><td>454a5b80-65eb-458...</td><td>5981</td></tr>\n",
       "<tr><td>2038687205</td><td>UBS CLEARING AND ...</td><td>1621352186397</td><td>GB00SNQA493665279...</td><td>1953</td><td>679077561</td><td>AANLGB2L</td><td>7c603e59-125f-42b...</td><td>6756</td></tr>\n",
       "<tr><td>1587066166</td><td>ABN AMRO HOARE GO...</td><td>1621352186397</td><td>GB42TNIE334085043...</td><td>9434</td><td>98879573</td><td>BCYPGB2LCSB</td><td>56e873c5-d510-47e...</td><td>9175</td></tr>\n",
       "<tr><td>6388053049</td><td>ABBOTSTONE AGRICU...</td><td>1621352186397</td><td>GB37LUOF810938630...</td><td>8038</td><td>801066544</td><td>ABCEGB2L</td><td>eb273e88-1264-407...</td><td>7848</td></tr>\n",
       "<tr><td>9005400212</td><td>ABINGWORTH MANAGE...</td><td>1621352186397</td><td>GB82FSYF715692598...</td><td>631</td><td>685232280</td><td>BARBGB2LLEI</td><td>a1aa3b78-4a4a-4d3...</td><td>5552</td></tr>\n",
       "<tr><td>5450421232</td><td>ABN AMRO HOARE GO...</td><td>1621352186397</td><td>GB77MMAX127462497...</td><td>8541</td><td>640430771</td><td>BCYPGB2LPGB</td><td>2c809f6c-f140-412...</td><td>6111</td></tr>\n",
       "<tr><td>6128886941</td><td>ABN AMRO CORPORAT...</td><td>1621352186397</td><td>GB13EAQN731975103...</td><td>3488</td><td>269785632</td><td>BOFAGB4TIPA</td><td>f7d07cb5-2b0b-44f...</td><td>2942</td></tr>\n",
       "<tr><td>5078734151</td><td>ABBEY LIFE</td><td>1621352186397</td><td>GB55JFQD125993400...</td><td>2956</td><td>35860891</td><td>BKCHGB2UXXX</td><td>688d8425-ee46-4b6...</td><td>3062</td></tr>\n",
       "</table>\n",
       "only showing top 10 rows\n"
      ],
      "text/plain": [
       "+--------------+--------------------+--------------------+--------------------+----+--------------+-----------+--------------------+-------+\n",
       "|account_number|           bank_name|dt_current_timestamp|                iban|  id|routing_number|  swift_bic|                 uid|user_id|\n",
       "+--------------+--------------------+--------------------+--------------------+----+--------------+-----------+--------------------+-------+\n",
       "|    7320834088|ABN AMRO HOARE GO...|       1621352186397|GB50RCLB435176715...|4796|     251572316|BOFAGB4TIPA|e90b2938-deb5-430...|   9975|\n",
       "|    7467060749|ABN AMRO MEZZANIN...|       1621352186397|GB44TYKV551022700...| 861|     300679144|ANTSGB2LCHA|f6fa9d04-f772-4b0...|   9926|\n",
       "|    5010092952|ABN AMRO HOARE GO...|       1621352186397|GB87IIXG134617446...|1807|     706669295|UBKLGB2LXXX|454a5b80-65eb-458...|   5981|\n",
       "|    2038687205|UBS CLEARING AND ...|       1621352186397|GB00SNQA493665279...|1953|     679077561|   AANLGB2L|7c603e59-125f-42b...|   6756|\n",
       "|    1587066166|ABN AMRO HOARE GO...|       1621352186397|GB42TNIE334085043...|9434|      98879573|BCYPGB2LCSB|56e873c5-d510-47e...|   9175|\n",
       "|    6388053049|ABBOTSTONE AGRICU...|       1621352186397|GB37LUOF810938630...|8038|     801066544|   ABCEGB2L|eb273e88-1264-407...|   7848|\n",
       "|    9005400212|ABINGWORTH MANAGE...|       1621352186397|GB82FSYF715692598...| 631|     685232280|BARBGB2LLEI|a1aa3b78-4a4a-4d3...|   5552|\n",
       "|    5450421232|ABN AMRO HOARE GO...|       1621352186397|GB77MMAX127462497...|8541|     640430771|BCYPGB2LPGB|2c809f6c-f140-412...|   6111|\n",
       "|    6128886941|ABN AMRO CORPORAT...|       1621352186397|GB13EAQN731975103...|3488|     269785632|BOFAGB4TIPA|f7d07cb5-2b0b-44f...|   2942|\n",
       "|    5078734151|          ABBEY LIFE|       1621352186397|GB55JFQD125993400...|2956|      35860891|BKCHGB2UXXX|688d8425-ee46-4b6...|   3062|\n",
       "+--------------+--------------------+--------------------+--------------------+----+--------------+-----------+--------------------+-------+\n",
       "only showing top 10 rows"
      ]
     },
     "execution_count": 11,
     "metadata": {},
     "output_type": "execute_result"
    }
   ],
   "source": [
    "df_csv"
   ]
  },
  {
   "cell_type": "markdown",
   "metadata": {},
   "source": [
    "## Filtros no Spark"
   ]
  },
  {
   "cell_type": "markdown",
   "metadata": {},
   "source": [
    "Vamos utilizar a função `col()` para nos referirmos às colunas. Existem outras maneiras de fazermos isso, mas essa é a melhor forma. (justificativa adiante).\n",
    "\n",
    "Operadores lógicos:\n",
    "* e: &\n",
    "* ou: |\n",
    "* não: ~\n",
    "\n",
    "Para fazer o filtro, pode ser utilizado tanto a função `filter()` como `where()`."
   ]
  },
  {
   "cell_type": "markdown",
   "metadata": {},
   "source": [
    "### Filtros com uma única condição"
   ]
  },
  {
   "cell_type": "code",
   "execution_count": 12,
   "metadata": {},
   "outputs": [
    {
     "data": {
      "text/html": [
       "<table border='1'>\n",
       "<tr><th>id</th><th>iban</th><th>swift_bic</th><th>bank_name</th></tr>\n",
       "<tr><td>2668</td><td>GB67PVXN983954278...</td><td>BARBGB2LSOU</td><td>ABBEY LIFE</td></tr>\n",
       "<tr><td>6508</td><td>GB38HCJT306766350...</td><td>UBKLGB2LBAK</td><td>ABBEY LIFE</td></tr>\n",
       "<tr><td>8313</td><td>GB91MOJV708533289...</td><td>AIBKGB2XTSY</td><td>ABBEY LIFE</td></tr>\n",
       "<tr><td>8394</td><td>GB80EKIY425898295...</td><td>ABECGB21</td><td>ABBEY LIFE</td></tr>\n",
       "<tr><td>8863</td><td>GB84QHII427697269...</td><td>MORLGB2LSMK</td><td>ABBEY LIFE</td></tr>\n",
       "<tr><td>962</td><td>GB71TLWN358957315...</td><td>ASTPGB2LXXX</td><td>ABBEY LIFE</td></tr>\n",
       "<tr><td>6440</td><td>GB19PAKA482644053...</td><td>BARBGB2LSOU</td><td>ABBEY LIFE</td></tr>\n",
       "<tr><td>6410</td><td>GB33EDPV546622293...</td><td>BCYPGB2LHHB</td><td>ABBEY LIFE</td></tr>\n",
       "<tr><td>9671</td><td>GB13TCCL185471838...</td><td>BARBGB2LKEN</td><td>ABBEY LIFE</td></tr>\n",
       "<tr><td>7719</td><td>GB03OJUX179943965...</td><td>ABMNGB21</td><td>ABBEY LIFE</td></tr>\n",
       "</table>\n",
       "only showing top 10 rows\n"
      ],
      "text/plain": [
       "+----+--------------------+-----------+----------+\n",
       "|  id|                iban|  swift_bic| bank_name|\n",
       "+----+--------------------+-----------+----------+\n",
       "|2668|GB67PVXN983954278...|BARBGB2LSOU|ABBEY LIFE|\n",
       "|6508|GB38HCJT306766350...|UBKLGB2LBAK|ABBEY LIFE|\n",
       "|8313|GB91MOJV708533289...|AIBKGB2XTSY|ABBEY LIFE|\n",
       "|8394|GB80EKIY425898295...|   ABECGB21|ABBEY LIFE|\n",
       "|8863|GB84QHII427697269...|MORLGB2LSMK|ABBEY LIFE|\n",
       "| 962|GB71TLWN358957315...|ASTPGB2LXXX|ABBEY LIFE|\n",
       "|6440|GB19PAKA482644053...|BARBGB2LSOU|ABBEY LIFE|\n",
       "|6410|GB33EDPV546622293...|BCYPGB2LHHB|ABBEY LIFE|\n",
       "|9671|GB13TCCL185471838...|BARBGB2LKEN|ABBEY LIFE|\n",
       "|7719|GB03OJUX179943965...|   ABMNGB21|ABBEY LIFE|\n",
       "+----+--------------------+-----------+----------+\n",
       "only showing top 10 rows"
      ]
     },
     "execution_count": 12,
     "metadata": {},
     "output_type": "execute_result"
    }
   ],
   "source": [
    "(\n",
    "    df_parquet.filter(f.col(\"bank_name\") == \"ABBEY LIFE\")\n",
    "    .select(\"id\", \"iban\", \"swift_bic\", \"bank_name\")\n",
    ")"
   ]
  },
  {
   "cell_type": "markdown",
   "metadata": {},
   "source": [
    "###  Filtros com duas ou mais condição"
   ]
  },
  {
   "cell_type": "code",
   "execution_count": 13,
   "metadata": {},
   "outputs": [
    {
     "data": {
      "text/html": [
       "<table border='1'>\n",
       "<tr><th>account_number</th><th>bank_name</th><th>dt_current_timestamp</th><th>iban</th><th>id</th><th>routing_number</th><th>swift_bic</th><th>uid</th><th>user_id</th></tr>\n",
       "<tr><td>5078734151</td><td>ABBEY LIFE</td><td>1621352186397</td><td>GB55JFQD125993400...</td><td>2956</td><td>035860891</td><td>BKCHGB2UXXX</td><td>688d8425-ee46-4b6...</td><td>3062</td></tr>\n",
       "</table>\n"
      ],
      "text/plain": [
       "+--------------+----------+--------------------+--------------------+----+--------------+-----------+--------------------+-------+\n",
       "|account_number| bank_name|dt_current_timestamp|                iban|  id|routing_number|  swift_bic|                 uid|user_id|\n",
       "+--------------+----------+--------------------+--------------------+----+--------------+-----------+--------------------+-------+\n",
       "|    5078734151|ABBEY LIFE|       1621352186397|GB55JFQD125993400...|2956|     035860891|BKCHGB2UXXX|688d8425-ee46-4b6...|   3062|\n",
       "+--------------+----------+--------------------+--------------------+----+--------------+-----------+--------------------+-------+"
      ]
     },
     "execution_count": 13,
     "metadata": {},
     "output_type": "execute_result"
    }
   ],
   "source": [
    "(\n",
    "    df_parquet.filter(\n",
    "        (f.col('bank_name') == \"ABBEY LIFE\") \n",
    "        & \n",
    "        (f.col('swift_bic') == \"BKCHGB2UXXX\")\n",
    "    )\n",
    ")"
   ]
  },
  {
   "cell_type": "code",
   "execution_count": 14,
   "metadata": {},
   "outputs": [
    {
     "name": "stdout",
     "output_type": "stream",
     "text": [
      "root\n",
      " |-- account_number: string (nullable = true)\n",
      " |-- bank_name: string (nullable = true)\n",
      " |-- dt_current_timestamp: long (nullable = true)\n",
      " |-- iban: string (nullable = true)\n",
      " |-- id: long (nullable = true)\n",
      " |-- routing_number: string (nullable = true)\n",
      " |-- swift_bic: string (nullable = true)\n",
      " |-- uid: string (nullable = true)\n",
      " |-- user_id: long (nullable = true)\n",
      "\n"
     ]
    },
    {
     "data": {
      "text/plain": [
       "StructType(List(StructField(account_number,StringType,true),StructField(bank_name,StringType,true),StructField(dt_current_timestamp,LongType,true),StructField(iban,StringType,true),StructField(id,LongType,true),StructField(routing_number,StringType,true),StructField(swift_bic,StringType,true),StructField(uid,StringType,true),StructField(user_id,LongType,true)))"
      ]
     },
     "execution_count": 14,
     "metadata": {},
     "output_type": "execute_result"
    }
   ],
   "source": [
    "df_parquet.printSchema()\n",
    "df_parquet.dtypes\n",
    "df_parquet.schema"
   ]
  },
  {
   "cell_type": "markdown",
   "metadata": {
    "id": "PSV1hD3korXQ"
   },
   "source": [
    "### Definindo um schema\n",
    "Da maneira trabalhosa:"
   ]
  },
  {
   "cell_type": "markdown",
   "metadata": {
    "id": "GDNwdmQNozWX"
   },
   "source": [
    "Da maneira simples e rápida:"
   ]
  },
  {
   "cell_type": "code",
   "execution_count": 15,
   "metadata": {
    "colab": {
     "base_uri": "https://localhost:8080/"
    },
    "id": "uOlK86ihkYc-",
    "outputId": "1a91ed13-bd45-48ff-a2f9-5e562f5baa3a"
   },
   "outputs": [
    {
     "data": {
      "text/plain": [
       "StructType(List(StructField(id,StringType,true),StructField(iban,StringType,true),StructField(swift_bic,StringType,true),StructField(bank_name,StringType,true)))"
      ]
     },
     "execution_count": 15,
     "metadata": {},
     "output_type": "execute_result"
    }
   ],
   "source": [
    "cols = [\"id\", \"iban\", \"swift_bic\", \"bank_name\"]\n",
    "schema = t.StructType([t.StructField(c, t.StringType()) for c in cols])\n",
    "schema"
   ]
  },
  {
   "cell_type": "markdown",
   "metadata": {
    "id": "uIJlW7PU5IaF"
   },
   "source": [
    "## Olhando para os dados"
   ]
  },
  {
   "cell_type": "code",
   "execution_count": 16,
   "metadata": {},
   "outputs": [
    {
     "data": {
      "text/html": [
       "<table border='1'>\n",
       "<tr><th>summary</th><th>account_number</th><th>bank_name</th><th>dt_current_timestamp</th><th>iban</th><th>id</th><th>routing_number</th><th>swift_bic</th><th>uid</th><th>user_id</th></tr>\n",
       "<tr><td>count</td><td>800</td><td>800</td><td>800</td><td>800</td><td>800</td><td>800</td><td>800</td><td>800</td><td>800</td></tr>\n",
       "<tr><td>mean</td><td>5.15628865576625E9</td><td>null</td><td>1.620421281803625E12</td><td>null</td><td>4848.27375</td><td>3.322776952575E8</td><td>null</td><td>null</td><td>5002.56875</td></tr>\n",
       "<tr><td>stddev</td><td>2.872248027238747E9</td><td>null</td><td>9.67766362984952E8</td><td>null</td><td>2934.7152273505167</td><td>2.610145570173564E8</td><td>null</td><td>null</td><td>2962.795389648868</td></tr>\n",
       "<tr><td>min</td><td>0001145135</td><td>AAC CAPITAL PARTN...</td><td>1619454345320</td><td>GB00BIFT850570158...</td><td>7</td><td>000917779</td><td>AACCGB21</td><td>0036fb76-35b0-44e...</td><td>3</td></tr>\n",
       "<tr><td>max</td><td>9985435631</td><td>UBS CLEARING AND ...</td><td>1621424024870</td><td>GB96UZDQ020945512...</td><td>9999</td><td>809424845</td><td>UBKLGB2LXXX</td><td>ff9f2586-dcc5-4de...</td><td>9997</td></tr>\n",
       "</table>\n"
      ],
      "text/plain": [
       "+-------+-------------------+--------------------+--------------------+--------------------+------------------+-------------------+-----------+--------------------+-----------------+\n",
       "|summary|     account_number|           bank_name|dt_current_timestamp|                iban|                id|     routing_number|  swift_bic|                 uid|          user_id|\n",
       "+-------+-------------------+--------------------+--------------------+--------------------+------------------+-------------------+-----------+--------------------+-----------------+\n",
       "|  count|                800|                 800|                 800|                 800|               800|                800|        800|                 800|              800|\n",
       "|   mean| 5.15628865576625E9|                null|1.620421281803625E12|                null|        4848.27375|   3.322776952575E8|       null|                null|       5002.56875|\n",
       "| stddev|2.872248027238747E9|                null|  9.67766362984952E8|                null|2934.7152273505167|2.610145570173564E8|       null|                null|2962.795389648868|\n",
       "|    min|         0001145135|AAC CAPITAL PARTN...|       1619454345320|GB00BIFT850570158...|                 7|          000917779|   AACCGB21|0036fb76-35b0-44e...|                3|\n",
       "|    max|         9985435631|UBS CLEARING AND ...|       1621424024870|GB96UZDQ020945512...|              9999|          809424845|UBKLGB2LXXX|ff9f2586-dcc5-4de...|             9997|\n",
       "+-------+-------------------+--------------------+--------------------+--------------------+------------------+-------------------+-----------+--------------------+-----------------+"
      ]
     },
     "execution_count": 16,
     "metadata": {},
     "output_type": "execute_result"
    }
   ],
   "source": [
    "df_parquet.describe()"
   ]
  },
  {
   "cell_type": "code",
   "execution_count": 17,
   "metadata": {
    "colab": {
     "base_uri": "https://localhost:8080/"
    },
    "id": "OwWJfRRx5lSZ",
    "outputId": "1d788b4c-3497-4a9a-c78e-0447038b3fa5"
   },
   "outputs": [
    {
     "name": "stdout",
     "output_type": "stream",
     "text": [
      "Número de Linhas:  800 \n",
      " Número de Colunas:  9 \n",
      "\n",
      "root\n",
      " |-- account_number: string (nullable = true)\n",
      " |-- bank_name: string (nullable = true)\n",
      " |-- dt_current_timestamp: long (nullable = true)\n",
      " |-- iban: string (nullable = true)\n",
      " |-- id: long (nullable = true)\n",
      " |-- routing_number: string (nullable = true)\n",
      " |-- swift_bic: string (nullable = true)\n",
      " |-- uid: string (nullable = true)\n",
      " |-- user_id: long (nullable = true)\n",
      "\n"
     ]
    }
   ],
   "source": [
    "print('Número de Linhas: ', df_parquet.count(), '\\n',\n",
    "      'Número de Colunas: ', len(df_parquet.columns), '\\n')\n",
    "df_parquet.printSchema()"
   ]
  },
  {
   "cell_type": "markdown",
   "metadata": {
    "id": "OVHbwVw3qDXs"
   },
   "source": [
    "# Manipulação dos Dados"
   ]
  },
  {
   "cell_type": "markdown",
   "metadata": {
    "id": "vWBHPYUHUs5S"
   },
   "source": [
    "O design do pyspark.sql, obviamente, é baseado no SQL para o processamento de dados estruturados. Assim, muitas funções tem nomes parecidos e/ou funcionam da mesma forma que seus análogos em sql puro. \n",
    "\n",
    "Inclusive, é possível operar em um DataFrame utilizando somente SQL"
   ]
  },
  {
   "cell_type": "markdown",
   "metadata": {
    "id": "zj5bT_TFmwQy"
   },
   "source": [
    "### Seleção de Colunas"
   ]
  },
  {
   "cell_type": "code",
   "execution_count": 18,
   "metadata": {
    "colab": {
     "base_uri": "https://localhost:8080/",
     "height": 359
    },
    "id": "weKxO-bzp_ss",
    "outputId": "aed143d5-603d-4a8f-f024-975fe8f614d6"
   },
   "outputs": [
    {
     "data": {
      "text/html": [
       "<table border='1'>\n",
       "<tr><th>id</th><th>iban</th><th>swift_bic</th><th>bank_name</th></tr>\n",
       "<tr><td>1957</td><td>GB78DZFZ380630884...</td><td>BSABGB2LXXX</td><td>ABN AMRO CORPORAT...</td></tr>\n",
       "<tr><td>4911</td><td>GB29ZZRW634222451...</td><td>AAFMGB21</td><td>ABN AMRO HOARE GO...</td></tr>\n",
       "<tr><td>5275</td><td>GB27LPUN514365223...</td><td>BSABGB2LXXX</td><td>ABINGWORTH MANAGE...</td></tr>\n",
       "<tr><td>7312</td><td>GB84VPOW303511892...</td><td>AIBKGB2XTSY</td><td>UBS CLEARING AND ...</td></tr>\n",
       "<tr><td>1428</td><td>GB73LSLX976213143...</td><td>BOFAGB22SEC</td><td>ABN AMRO QUOTED I...</td></tr>\n",
       "<tr><td>258</td><td>GB44BRFS970776726...</td><td>ABCCGB22</td><td>ABN AMRO HOARE GO...</td></tr>\n",
       "<tr><td>4639</td><td>GB72RJCG710095607...</td><td>BOFAGB3SSWI</td><td>ALLIED BANK PHILI...</td></tr>\n",
       "<tr><td>194</td><td>GB54HCJD358743036...</td><td>BOFAGB22OF2</td><td>ABBOTSTONE AGRICU...</td></tr>\n",
       "<tr><td>1104</td><td>GB70AFAV412241071...</td><td>ABBYGB2L</td><td>ABBOTSTONE AGRICU...</td></tr>\n",
       "<tr><td>1149</td><td>GB53WVHS695074027...</td><td>ABAZGB21</td><td>ALKEN ASSET MANAG...</td></tr>\n",
       "</table>\n",
       "only showing top 10 rows\n"
      ],
      "text/plain": [
       "+----+--------------------+-----------+--------------------+\n",
       "|  id|                iban|  swift_bic|           bank_name|\n",
       "+----+--------------------+-----------+--------------------+\n",
       "|1957|GB78DZFZ380630884...|BSABGB2LXXX|ABN AMRO CORPORAT...|\n",
       "|4911|GB29ZZRW634222451...|   AAFMGB21|ABN AMRO HOARE GO...|\n",
       "|5275|GB27LPUN514365223...|BSABGB2LXXX|ABINGWORTH MANAGE...|\n",
       "|7312|GB84VPOW303511892...|AIBKGB2XTSY|UBS CLEARING AND ...|\n",
       "|1428|GB73LSLX976213143...|BOFAGB22SEC|ABN AMRO QUOTED I...|\n",
       "| 258|GB44BRFS970776726...|   ABCCGB22|ABN AMRO HOARE GO...|\n",
       "|4639|GB72RJCG710095607...|BOFAGB3SSWI|ALLIED BANK PHILI...|\n",
       "| 194|GB54HCJD358743036...|BOFAGB22OF2|ABBOTSTONE AGRICU...|\n",
       "|1104|GB70AFAV412241071...|   ABBYGB2L|ABBOTSTONE AGRICU...|\n",
       "|1149|GB53WVHS695074027...|   ABAZGB21|ALKEN ASSET MANAG...|\n",
       "+----+--------------------+-----------+--------------------+\n",
       "only showing top 10 rows"
      ]
     },
     "execution_count": 18,
     "metadata": {},
     "output_type": "execute_result"
    }
   ],
   "source": [
    "df_parquet.select(\"id\", \"iban\", \"swift_bic\", \"bank_name\")"
   ]
  },
  {
   "cell_type": "code",
   "execution_count": 19,
   "metadata": {
    "colab": {
     "base_uri": "https://localhost:8080/",
     "height": 359
    },
    "id": "kMkyVG1Enfp6",
    "outputId": "0300870f-10b1-419a-9c47-0fbb58bd47e8"
   },
   "outputs": [
    {
     "data": {
      "text/html": [
       "<table border='1'>\n",
       "<tr><th>id</th><th>iban</th><th>swift_bic</th><th>bank_name</th></tr>\n",
       "<tr><td>1957</td><td>GB78DZFZ380630884...</td><td>BSABGB2LXXX</td><td>ABN AMRO CORPORAT...</td></tr>\n",
       "<tr><td>4911</td><td>GB29ZZRW634222451...</td><td>AAFMGB21</td><td>ABN AMRO HOARE GO...</td></tr>\n",
       "<tr><td>5275</td><td>GB27LPUN514365223...</td><td>BSABGB2LXXX</td><td>ABINGWORTH MANAGE...</td></tr>\n",
       "<tr><td>7312</td><td>GB84VPOW303511892...</td><td>AIBKGB2XTSY</td><td>UBS CLEARING AND ...</td></tr>\n",
       "<tr><td>1428</td><td>GB73LSLX976213143...</td><td>BOFAGB22SEC</td><td>ABN AMRO QUOTED I...</td></tr>\n",
       "<tr><td>258</td><td>GB44BRFS970776726...</td><td>ABCCGB22</td><td>ABN AMRO HOARE GO...</td></tr>\n",
       "<tr><td>4639</td><td>GB72RJCG710095607...</td><td>BOFAGB3SSWI</td><td>ALLIED BANK PHILI...</td></tr>\n",
       "<tr><td>194</td><td>GB54HCJD358743036...</td><td>BOFAGB22OF2</td><td>ABBOTSTONE AGRICU...</td></tr>\n",
       "<tr><td>1104</td><td>GB70AFAV412241071...</td><td>ABBYGB2L</td><td>ABBOTSTONE AGRICU...</td></tr>\n",
       "<tr><td>1149</td><td>GB53WVHS695074027...</td><td>ABAZGB21</td><td>ALKEN ASSET MANAG...</td></tr>\n",
       "</table>\n",
       "only showing top 10 rows\n"
      ],
      "text/plain": [
       "+----+--------------------+-----------+--------------------+\n",
       "|  id|                iban|  swift_bic|           bank_name|\n",
       "+----+--------------------+-----------+--------------------+\n",
       "|1957|GB78DZFZ380630884...|BSABGB2LXXX|ABN AMRO CORPORAT...|\n",
       "|4911|GB29ZZRW634222451...|   AAFMGB21|ABN AMRO HOARE GO...|\n",
       "|5275|GB27LPUN514365223...|BSABGB2LXXX|ABINGWORTH MANAGE...|\n",
       "|7312|GB84VPOW303511892...|AIBKGB2XTSY|UBS CLEARING AND ...|\n",
       "|1428|GB73LSLX976213143...|BOFAGB22SEC|ABN AMRO QUOTED I...|\n",
       "| 258|GB44BRFS970776726...|   ABCCGB22|ABN AMRO HOARE GO...|\n",
       "|4639|GB72RJCG710095607...|BOFAGB3SSWI|ALLIED BANK PHILI...|\n",
       "| 194|GB54HCJD358743036...|BOFAGB22OF2|ABBOTSTONE AGRICU...|\n",
       "|1104|GB70AFAV412241071...|   ABBYGB2L|ABBOTSTONE AGRICU...|\n",
       "|1149|GB53WVHS695074027...|   ABAZGB21|ALKEN ASSET MANAG...|\n",
       "+----+--------------------+-----------+--------------------+\n",
       "only showing top 10 rows"
      ]
     },
     "execution_count": 19,
     "metadata": {},
     "output_type": "execute_result"
    }
   ],
   "source": [
    "cols = [\"id\", \"iban\", \"swift_bic\", \"bank_name\"]\n",
    "df_parquet.select(cols)"
   ]
  },
  {
   "cell_type": "code",
   "execution_count": 20,
   "metadata": {
    "colab": {
     "base_uri": "https://localhost:8080/",
     "height": 359
    },
    "id": "z9BbhKdPnlrt",
    "outputId": "35fdea44-7882-48d6-e66a-e8ffd340f699"
   },
   "outputs": [
    {
     "data": {
      "text/html": [
       "<table border='1'>\n",
       "<tr><th>id</th><th>iban</th><th>bank_name</th></tr>\n",
       "<tr><td>1957</td><td>GB78DZFZ380630884...</td><td>ABN AMRO CORPORAT...</td></tr>\n",
       "<tr><td>4911</td><td>GB29ZZRW634222451...</td><td>ABN AMRO HOARE GO...</td></tr>\n",
       "<tr><td>5275</td><td>GB27LPUN514365223...</td><td>ABINGWORTH MANAGE...</td></tr>\n",
       "<tr><td>7312</td><td>GB84VPOW303511892...</td><td>UBS CLEARING AND ...</td></tr>\n",
       "<tr><td>1428</td><td>GB73LSLX976213143...</td><td>ABN AMRO QUOTED I...</td></tr>\n",
       "<tr><td>258</td><td>GB44BRFS970776726...</td><td>ABN AMRO HOARE GO...</td></tr>\n",
       "<tr><td>4639</td><td>GB72RJCG710095607...</td><td>ALLIED BANK PHILI...</td></tr>\n",
       "<tr><td>194</td><td>GB54HCJD358743036...</td><td>ABBOTSTONE AGRICU...</td></tr>\n",
       "<tr><td>1104</td><td>GB70AFAV412241071...</td><td>ABBOTSTONE AGRICU...</td></tr>\n",
       "<tr><td>1149</td><td>GB53WVHS695074027...</td><td>ALKEN ASSET MANAG...</td></tr>\n",
       "</table>\n",
       "only showing top 10 rows\n"
      ],
      "text/plain": [
       "+----+--------------------+--------------------+\n",
       "|  id|                iban|           bank_name|\n",
       "+----+--------------------+--------------------+\n",
       "|1957|GB78DZFZ380630884...|ABN AMRO CORPORAT...|\n",
       "|4911|GB29ZZRW634222451...|ABN AMRO HOARE GO...|\n",
       "|5275|GB27LPUN514365223...|ABINGWORTH MANAGE...|\n",
       "|7312|GB84VPOW303511892...|UBS CLEARING AND ...|\n",
       "|1428|GB73LSLX976213143...|ABN AMRO QUOTED I...|\n",
       "| 258|GB44BRFS970776726...|ABN AMRO HOARE GO...|\n",
       "|4639|GB72RJCG710095607...|ALLIED BANK PHILI...|\n",
       "| 194|GB54HCJD358743036...|ABBOTSTONE AGRICU...|\n",
       "|1104|GB70AFAV412241071...|ABBOTSTONE AGRICU...|\n",
       "|1149|GB53WVHS695074027...|ALKEN ASSET MANAG...|\n",
       "+----+--------------------+--------------------+\n",
       "only showing top 10 rows"
      ]
     },
     "execution_count": 20,
     "metadata": {},
     "output_type": "execute_result"
    }
   ],
   "source": [
    "cols = [\"iban\", \"bank_name\"]\n",
    "df_parquet.select(\"id\", *cols)"
   ]
  },
  {
   "cell_type": "markdown",
   "metadata": {
    "id": "JErw3YdRn-bu"
   },
   "source": [
    "Observações:\n",
    "* Podemos realizar operações sobre colunas selecionadas. \n",
    "* A ordem em que as colunas são selecionadas é a ordem em que elas vão ser inseridas no DataFrame resultante."
   ]
  },
  {
   "cell_type": "code",
   "execution_count": 21,
   "metadata": {
    "colab": {
     "base_uri": "https://localhost:8080/",
     "height": 359
    },
    "id": "GJNl4tcGn1bi",
    "outputId": "119b6154-9add-4a32-d04d-d815000a4b97"
   },
   "outputs": [
    {
     "data": {
      "text/html": [
       "<table border='1'>\n",
       "<tr><th>iban</th><th>bank_name</th><th>bank_name_lower</th></tr>\n",
       "<tr><td>GB78DZFZ380630884...</td><td>ABN AMRO CORPORAT...</td><td>abn amro corporat...</td></tr>\n",
       "<tr><td>GB29ZZRW634222451...</td><td>ABN AMRO HOARE GO...</td><td>abn amro hoare go...</td></tr>\n",
       "<tr><td>GB27LPUN514365223...</td><td>ABINGWORTH MANAGE...</td><td>abingworth manage...</td></tr>\n",
       "<tr><td>GB84VPOW303511892...</td><td>UBS CLEARING AND ...</td><td>ubs clearing and ...</td></tr>\n",
       "<tr><td>GB73LSLX976213143...</td><td>ABN AMRO QUOTED I...</td><td>abn amro quoted i...</td></tr>\n",
       "<tr><td>GB44BRFS970776726...</td><td>ABN AMRO HOARE GO...</td><td>abn amro hoare go...</td></tr>\n",
       "<tr><td>GB72RJCG710095607...</td><td>ALLIED BANK PHILI...</td><td>allied bank phili...</td></tr>\n",
       "<tr><td>GB54HCJD358743036...</td><td>ABBOTSTONE AGRICU...</td><td>abbotstone agricu...</td></tr>\n",
       "<tr><td>GB70AFAV412241071...</td><td>ABBOTSTONE AGRICU...</td><td>abbotstone agricu...</td></tr>\n",
       "<tr><td>GB53WVHS695074027...</td><td>ALKEN ASSET MANAG...</td><td>alken asset manag...</td></tr>\n",
       "</table>\n",
       "only showing top 10 rows\n"
      ],
      "text/plain": [
       "+--------------------+--------------------+--------------------+\n",
       "|                iban|           bank_name|     bank_name_lower|\n",
       "+--------------------+--------------------+--------------------+\n",
       "|GB78DZFZ380630884...|ABN AMRO CORPORAT...|abn amro corporat...|\n",
       "|GB29ZZRW634222451...|ABN AMRO HOARE GO...|abn amro hoare go...|\n",
       "|GB27LPUN514365223...|ABINGWORTH MANAGE...|abingworth manage...|\n",
       "|GB84VPOW303511892...|UBS CLEARING AND ...|ubs clearing and ...|\n",
       "|GB73LSLX976213143...|ABN AMRO QUOTED I...|abn amro quoted i...|\n",
       "|GB44BRFS970776726...|ABN AMRO HOARE GO...|abn amro hoare go...|\n",
       "|GB72RJCG710095607...|ALLIED BANK PHILI...|allied bank phili...|\n",
       "|GB54HCJD358743036...|ABBOTSTONE AGRICU...|abbotstone agricu...|\n",
       "|GB70AFAV412241071...|ABBOTSTONE AGRICU...|abbotstone agricu...|\n",
       "|GB53WVHS695074027...|ALKEN ASSET MANAG...|alken asset manag...|\n",
       "+--------------------+--------------------+--------------------+\n",
       "only showing top 10 rows"
      ]
     },
     "execution_count": 21,
     "metadata": {},
     "output_type": "execute_result"
    }
   ],
   "source": [
    "df_parquet.select(\"iban\", \"bank_name\", f.lower('bank_name').alias('bank_name_lower'))"
   ]
  },
  {
   "cell_type": "markdown",
   "metadata": {
    "id": "TbZL83ifHh10"
   },
   "source": [
    "#### Selecionando valores distintos"
   ]
  },
  {
   "cell_type": "code",
   "execution_count": 22,
   "metadata": {
    "colab": {
     "base_uri": "https://localhost:8080/",
     "height": 948
    },
    "id": "cMug6VcsHoc9",
    "outputId": "f4525a73-8873-4f19-d807-997390566d36"
   },
   "outputs": [
    {
     "name": "stdout",
     "output_type": "stream",
     "text": [
      "+----------------------------------------------+\n",
      "|bank_name                                     |\n",
      "+----------------------------------------------+\n",
      "|OTKRITIE SECURITIES LIMITED                   |\n",
      "|ABN AMRO FUND MANAGERS LIMITED                |\n",
      "|ABN AMRO CORPORATE FINANCE LIMITED            |\n",
      "|UBS CLEARING AND EXECUTION SERVICES LIMITED   |\n",
      "|ABBOTSTONE AGRICULTURAL PROPERTY UNIT TRUST   |\n",
      "|AAC CAPITAL PARTNERS LIMITED                  |\n",
      "|ABU DHABI ISLAMIC BANK                        |\n",
      "|SANTANDER UK PLC                              |\n",
      "|ABN AMRO HOARE GOVETT LIMITED                 |\n",
      "|THE ROYAL BANK OF SCOTLAND PLC (FORMER RBS NV)|\n",
      "|PGMS (GLASGOW) LIMITED                        |\n",
      "|ABINGWORTH MANAGEMENT LIMITED                 |\n",
      "|ABG SUNDAL COLLIER LIMITED                    |\n",
      "|ALKEN ASSET MANAGEMENT                        |\n",
      "|ABN AMRO HOARE GOVETT SECURITIES              |\n",
      "|ABN AMRO QUOTED INVESTMENTS (UK) LIMITED      |\n",
      "|ALLIED BANK PHILIPPINES (UK) PLC              |\n",
      "|ABN AMRO MEZZANINE (UK) LIMITED               |\n",
      "|ABBEY LIFE                                    |\n",
      "|ABC INTERNATIONAL BANK PLC                    |\n",
      "|ABN AMRO HOARE GOVETT CORPORATE FINANCE LTD.  |\n",
      "+----------------------------------------------+\n",
      "\n"
     ]
    }
   ],
   "source": [
    "df_parquet.select(\"bank_name\").distinct().show(n=df_parquet.count(), truncate=False)"
   ]
  },
  {
   "cell_type": "markdown",
   "metadata": {
    "id": "r7No5VU2qaXS"
   },
   "source": [
    "#### Filtros Utilizando SQL"
   ]
  },
  {
   "cell_type": "code",
   "execution_count": 23,
   "metadata": {
    "colab": {
     "base_uri": "https://localhost:8080/"
    },
    "id": "TdDAkcx_qcud",
    "outputId": "dabeaa0c-fbe0-4738-d80e-09fed41e7028"
   },
   "outputs": [
    {
     "data": {
      "text/html": [
       "<table border='1'>\n",
       "<tr><th>id</th><th>bank_name</th></tr>\n",
       "<tr><td>4311</td><td>SANTANDER UK PLC</td></tr>\n",
       "<tr><td>5815</td><td>SANTANDER UK PLC</td></tr>\n",
       "<tr><td>8914</td><td>SANTANDER UK PLC</td></tr>\n",
       "<tr><td>9510</td><td>SANTANDER UK PLC</td></tr>\n",
       "<tr><td>1817</td><td>SANTANDER UK PLC</td></tr>\n",
       "<tr><td>4054</td><td>SANTANDER UK PLC</td></tr>\n",
       "<tr><td>1694</td><td>SANTANDER UK PLC</td></tr>\n",
       "<tr><td>8559</td><td>SANTANDER UK PLC</td></tr>\n",
       "<tr><td>4805</td><td>SANTANDER UK PLC</td></tr>\n",
       "<tr><td>8275</td><td>SANTANDER UK PLC</td></tr>\n",
       "</table>\n",
       "only showing top 10 rows\n"
      ],
      "text/plain": [
       "+----+----------------+\n",
       "|  id|       bank_name|\n",
       "+----+----------------+\n",
       "|4311|SANTANDER UK PLC|\n",
       "|5815|SANTANDER UK PLC|\n",
       "|8914|SANTANDER UK PLC|\n",
       "|9510|SANTANDER UK PLC|\n",
       "|1817|SANTANDER UK PLC|\n",
       "|4054|SANTANDER UK PLC|\n",
       "|1694|SANTANDER UK PLC|\n",
       "|8559|SANTANDER UK PLC|\n",
       "|4805|SANTANDER UK PLC|\n",
       "|8275|SANTANDER UK PLC|\n",
       "+----+----------------+\n",
       "only showing top 10 rows"
      ]
     },
     "execution_count": 23,
     "metadata": {},
     "output_type": "execute_result"
    }
   ],
   "source": [
    "(\n",
    "    df_parquet.filter(\"bank_name = 'SANTANDER UK PLC'\")\n",
    "    .select(\"id\", \"bank_name\")\n",
    ")"
   ]
  },
  {
   "cell_type": "code",
   "execution_count": 24,
   "metadata": {},
   "outputs": [
    {
     "data": {
      "text/html": [
       "<table border='1'>\n",
       "<tr><th>id</th><th>bank_name</th></tr>\n",
       "<tr><td>4311</td><td>SANTANDER UK PLC</td></tr>\n",
       "</table>\n"
      ],
      "text/plain": [
       "+----+----------------+\n",
       "|  id|       bank_name|\n",
       "+----+----------------+\n",
       "|4311|SANTANDER UK PLC|\n",
       "+----+----------------+"
      ]
     },
     "execution_count": 24,
     "metadata": {},
     "output_type": "execute_result"
    }
   ],
   "source": [
    "(\n",
    "    df_parquet.filter(\"bank_name = 'SANTANDER UK PLC' and id = 4311\")\n",
    "    .select(\"id\", \"bank_name\")\n",
    ")"
   ]
  },
  {
   "cell_type": "code",
   "execution_count": 25,
   "metadata": {
    "colab": {
     "base_uri": "https://localhost:8080/"
    },
    "id": "UHojQs9HqdRI",
    "outputId": "95194b88-bc42-4b0d-c6bd-bd697fa6d877"
   },
   "outputs": [
    {
     "name": "stdout",
     "output_type": "stream",
     "text": [
      "+----+----------------------+\n",
      "|id  |bank_name             |\n",
      "+----+----------------------+\n",
      "|8275|SANTANDER UK PLC      |\n",
      "|4601|PGMS (GLASGOW) LIMITED|\n",
      "+----+----------------------+\n",
      "\n"
     ]
    }
   ],
   "source": [
    "(\n",
    "    df_parquet.filter(\"\"\"id in ('8275', '4601') \n",
    "                      and (bank_name in ('SANTANDER UK PLC', 'PGMS (GLASGOW) LIMITED'))\n",
    "                      \"\"\")\n",
    "    .select(\"id\", \"bank_name\").show(truncate=False)\n",
    ")"
   ]
  },
  {
   "cell_type": "markdown",
   "metadata": {
    "id": "hIU3LBh9r6Y5"
   },
   "source": [
    "#### Observações\n",
    "Quando nos referimos às colunas por meio da função `col()`, temos acesso à diversos métodos das colunas que podem ser utilizados para auxliar na filtragem do DataFrame. Alguns deles são:\n",
    "* `isin()`: checa se a coluna contém os valores listados na função.\n",
    "* `contains()`: utilizado para verificar se uma coluna de texto contém algum padrão especificado (não aceita regex). Aceita uma outra coluna de texto.\n",
    "* `like()`: utilizado para verificar se uma coluna de texto contém algum padrão especificado (não aceita regex). Funciona de forma similar ao \"LIKE\" do SQL.\n",
    "* `rlike()`: utilizado para verificar se uma coluna de texto contém algum padrão especificado (**aceita regex**). Funciona de forma similar ao \"RLIKE\" do SQL.\n",
    "* `startswith()`: utilizado para verificar se uma coluna de texto começa com algum padrão especificado (**aceita regex**).\n",
    "* `endswith()`: utilizado para verificar se uma coluna de texto termina com algum padrão especificado (**aceita regex**).\n",
    "* `between()`: checa se os valores da coluna estão dentro do intervalo especificado. Os dois lados do intervalo são inclusivos.\n",
    "* `isNull()`: retorna True se o valor da coluna é nulo\n",
    "* `isNotNull()`: retorna True se o valor da coluna não é nulo\n",
    "\n",
    "Outros métodos úteis:\n",
    "* `alias()/name()`: usado para renomear as colunas em operações como select() e agg()\n",
    "* `astype()/cast()`: usado para mudar o tipo das colunas. Aceita tanto um string como um tipo especificado pelo módulo pyspark.sql.types\n",
    "* `substr()`: utilizado para cortar um string com base em índices dos caracteres "
   ]
  },
  {
   "cell_type": "code",
   "execution_count": 26,
   "metadata": {},
   "outputs": [
    {
     "name": "stdout",
     "output_type": "stream",
     "text": [
      "+-------------------------------------------+\n",
      "|bank_name                                  |\n",
      "+-------------------------------------------+\n",
      "|ABN AMRO CORPORATE FINANCE LIMITED         |\n",
      "|ABN AMRO HOARE GOVETT SECURITIES           |\n",
      "|ABINGWORTH MANAGEMENT LIMITED              |\n",
      "|UBS CLEARING AND EXECUTION SERVICES LIMITED|\n",
      "|ABN AMRO QUOTED INVESTMENTS (UK) LIMITED   |\n",
      "|ABN AMRO HOARE GOVETT SECURITIES           |\n",
      "|ALLIED BANK PHILIPPINES (UK) PLC           |\n",
      "|ABBOTSTONE AGRICULTURAL PROPERTY UNIT TRUST|\n",
      "|ABBOTSTONE AGRICULTURAL PROPERTY UNIT TRUST|\n",
      "|ALKEN ASSET MANAGEMENT                     |\n",
      "|ABN AMRO QUOTED INVESTMENTS (UK) LIMITED   |\n",
      "|ABU DHABI ISLAMIC BANK                     |\n",
      "|ALLIED BANK PHILIPPINES (UK) PLC           |\n",
      "|SANTANDER UK PLC                           |\n",
      "|ABN AMRO HOARE GOVETT LIMITED              |\n",
      "|UBS CLEARING AND EXECUTION SERVICES LIMITED|\n",
      "|UBS CLEARING AND EXECUTION SERVICES LIMITED|\n",
      "|PGMS (GLASGOW) LIMITED                     |\n",
      "|AAC CAPITAL PARTNERS LIMITED               |\n",
      "|ABN AMRO HOARE GOVETT SECURITIES           |\n",
      "+-------------------------------------------+\n",
      "only showing top 20 rows\n",
      "\n"
     ]
    }
   ],
   "source": [
    "(\n",
    "    df_parquet.filter(f.col(\"bank_name\").like('%A%'))\n",
    "    .select(\"bank_name\").show(truncate=False)\n",
    ")"
   ]
  },
  {
   "cell_type": "markdown",
   "metadata": {
    "id": "GGh6ifiDIM-P"
   },
   "source": [
    "### Ordenando o DataFrame"
   ]
  },
  {
   "cell_type": "markdown",
   "metadata": {
    "id": "C6up9X4QJN1s"
   },
   "source": [
    "A ordenação do DataFrame pode ser feita utilizando as funções `orderBy()` ou `sort()`. Algumas funções auxiliares importante para serem usadas ao ordenar:\n",
    "* `asc()`: ordena a coluna de forma ascendente (default)\n",
    "* `desc()`ordena a coluna de forma decrescente\n",
    "* `asc_nulls_first() / desc_nulls_first()`: ordena a coluna de forma ascendente e decrescente, respectivamente, mantendo os campos nulos primeiro\n",
    "* `asc_nulls_last() / desc_nulls_last()`: ordena a coluna de forma ascendente e decrescente, respectivamente, mantendo os campos nulos por último"
   ]
  },
  {
   "cell_type": "code",
   "execution_count": 27,
   "metadata": {
    "colab": {
     "base_uri": "https://localhost:8080/",
     "height": 948
    },
    "id": "GF4v4b-rISVe",
    "outputId": "85896410-9915-4c1e-ba8b-159e7b431198"
   },
   "outputs": [
    {
     "name": "stdout",
     "output_type": "stream",
     "text": [
      "+----------------------------------------------+\n",
      "|bank_name                                     |\n",
      "+----------------------------------------------+\n",
      "|AAC CAPITAL PARTNERS LIMITED                  |\n",
      "|ABBEY LIFE                                    |\n",
      "|ABBOTSTONE AGRICULTURAL PROPERTY UNIT TRUST   |\n",
      "|ABC INTERNATIONAL BANK PLC                    |\n",
      "|ABG SUNDAL COLLIER LIMITED                    |\n",
      "|ABINGWORTH MANAGEMENT LIMITED                 |\n",
      "|ABN AMRO CORPORATE FINANCE LIMITED            |\n",
      "|ABN AMRO FUND MANAGERS LIMITED                |\n",
      "|ABN AMRO HOARE GOVETT CORPORATE FINANCE LTD.  |\n",
      "|ABN AMRO HOARE GOVETT LIMITED                 |\n",
      "|ABN AMRO HOARE GOVETT SECURITIES              |\n",
      "|ABN AMRO MEZZANINE (UK) LIMITED               |\n",
      "|ABN AMRO QUOTED INVESTMENTS (UK) LIMITED      |\n",
      "|ABU DHABI ISLAMIC BANK                        |\n",
      "|ALKEN ASSET MANAGEMENT                        |\n",
      "|ALLIED BANK PHILIPPINES (UK) PLC              |\n",
      "|OTKRITIE SECURITIES LIMITED                   |\n",
      "|PGMS (GLASGOW) LIMITED                        |\n",
      "|SANTANDER UK PLC                              |\n",
      "|THE ROYAL BANK OF SCOTLAND PLC (FORMER RBS NV)|\n",
      "+----------------------------------------------+\n",
      "only showing top 20 rows\n",
      "\n"
     ]
    }
   ],
   "source": [
    "df_parquet.select(\"bank_name\").distinct().orderBy('bank_name').show(truncate=False)"
   ]
  },
  {
   "cell_type": "markdown",
   "metadata": {
    "id": "JejMRib9v7Ji"
   },
   "source": [
    "### Renomeando Colunas"
   ]
  },
  {
   "cell_type": "markdown",
   "metadata": {
    "id": "A-r10heJh5BD"
   },
   "source": [
    "Para renomear colunas, é utilizada a função `withColumnRenamed()`, da seguinte forma:\n",
    "\n",
    "```\n",
    "df.withColumnRenamed(`nome_antigo`, 'nome_novo')\n",
    "```"
   ]
  },
  {
   "cell_type": "code",
   "execution_count": 28,
   "metadata": {
    "colab": {
     "base_uri": "https://localhost:8080/"
    },
    "id": "_xyy0dtprVDN",
    "outputId": "57d38fd3-b447-4c0d-c289-0d6ab0c93f6d"
   },
   "outputs": [
    {
     "data": {
      "text/html": [
       "<table border='1'>\n",
       "<tr><th>codigo</th><th>nome_do_banco</th></tr>\n",
       "<tr><td>1957</td><td>ABN AMRO CORPORAT...</td></tr>\n",
       "<tr><td>4911</td><td>ABN AMRO HOARE GO...</td></tr>\n",
       "<tr><td>5275</td><td>ABINGWORTH MANAGE...</td></tr>\n",
       "<tr><td>7312</td><td>UBS CLEARING AND ...</td></tr>\n",
       "<tr><td>1428</td><td>ABN AMRO QUOTED I...</td></tr>\n",
       "<tr><td>258</td><td>ABN AMRO HOARE GO...</td></tr>\n",
       "<tr><td>4639</td><td>ALLIED BANK PHILI...</td></tr>\n",
       "<tr><td>194</td><td>ABBOTSTONE AGRICU...</td></tr>\n",
       "<tr><td>1104</td><td>ABBOTSTONE AGRICU...</td></tr>\n",
       "<tr><td>1149</td><td>ALKEN ASSET MANAG...</td></tr>\n",
       "</table>\n",
       "only showing top 10 rows\n"
      ],
      "text/plain": [
       "+------+--------------------+\n",
       "|codigo|       nome_do_banco|\n",
       "+------+--------------------+\n",
       "|  1957|ABN AMRO CORPORAT...|\n",
       "|  4911|ABN AMRO HOARE GO...|\n",
       "|  5275|ABINGWORTH MANAGE...|\n",
       "|  7312|UBS CLEARING AND ...|\n",
       "|  1428|ABN AMRO QUOTED I...|\n",
       "|   258|ABN AMRO HOARE GO...|\n",
       "|  4639|ALLIED BANK PHILI...|\n",
       "|   194|ABBOTSTONE AGRICU...|\n",
       "|  1104|ABBOTSTONE AGRICU...|\n",
       "|  1149|ALKEN ASSET MANAG...|\n",
       "+------+--------------------+\n",
       "only showing top 10 rows"
      ]
     },
     "execution_count": 28,
     "metadata": {},
     "output_type": "execute_result"
    }
   ],
   "source": [
    "(\n",
    "    df_parquet.select(\"id\",\"bank_name\")\n",
    "    .withColumnRenamed(\"id\", \"codigo\")\n",
    "    .withColumnRenamed(\"bank_name\", \"nome_do_banco\")\n",
    ")"
   ]
  },
  {
   "cell_type": "markdown",
   "metadata": {},
   "source": [
    "### Usando SQL no Spark"
   ]
  },
  {
   "cell_type": "code",
   "execution_count": 29,
   "metadata": {},
   "outputs": [
    {
     "data": {
      "text/plain": [
       "'default'"
      ]
     },
     "execution_count": 29,
     "metadata": {},
     "output_type": "execute_result"
    }
   ],
   "source": [
    "spark.catalog.currentDatabase()"
   ]
  },
  {
   "cell_type": "code",
   "execution_count": 30,
   "metadata": {},
   "outputs": [
    {
     "name": "stdout",
     "output_type": "stream",
     "text": [
      "+---------+\n",
      "|namespace|\n",
      "+---------+\n",
      "|  default|\n",
      "+---------+\n",
      "\n"
     ]
    }
   ],
   "source": [
    "spark.sql('show databases').show()"
   ]
  },
  {
   "cell_type": "code",
   "execution_count": 31,
   "metadata": {},
   "outputs": [
    {
     "data": {
      "text/html": [
       "<table border='1'>\n",
       "<tr><th></th></tr>\n",
       "</table>\n"
      ],
      "text/plain": [
       "++\n",
       "||\n",
       "++\n",
       "++"
      ]
     },
     "execution_count": 31,
     "metadata": {},
     "output_type": "execute_result"
    }
   ],
   "source": [
    "spark.sql('create database mbaUniesp')"
   ]
  },
  {
   "cell_type": "code",
   "execution_count": 32,
   "metadata": {},
   "outputs": [
    {
     "name": "stdout",
     "output_type": "stream",
     "text": [
      "+---------+\n",
      "|namespace|\n",
      "+---------+\n",
      "|  default|\n",
      "|mbauniesp|\n",
      "+---------+\n",
      "\n"
     ]
    }
   ],
   "source": [
    "spark.sql('show databases').show()"
   ]
  },
  {
   "cell_type": "code",
   "execution_count": 33,
   "metadata": {},
   "outputs": [
    {
     "data": {
      "text/html": [
       "<table border='1'>\n",
       "<tr><th></th></tr>\n",
       "</table>\n"
      ],
      "text/plain": [
       "++\n",
       "||\n",
       "++\n",
       "++"
      ]
     },
     "execution_count": 33,
     "metadata": {},
     "output_type": "execute_result"
    }
   ],
   "source": [
    "spark.sql(\"use mbaUniesp\")"
   ]
  },
  {
   "cell_type": "code",
   "execution_count": 34,
   "metadata": {},
   "outputs": [
    {
     "data": {
      "text/plain": [
       "'mbauniesp'"
      ]
     },
     "execution_count": 34,
     "metadata": {},
     "output_type": "execute_result"
    }
   ],
   "source": [
    "spark.catalog.currentDatabase()"
   ]
  },
  {
   "cell_type": "code",
   "execution_count": 35,
   "metadata": {},
   "outputs": [],
   "source": [
    "df_parquet.createOrReplaceTempView(\"tb_mba\")"
   ]
  },
  {
   "cell_type": "code",
   "execution_count": 37,
   "metadata": {},
   "outputs": [
    {
     "data": {
      "text/plain": [
       "[Table(name='tb_mba', database=None, description=None, tableType='TEMPORARY', isTemporary=True)]"
      ]
     },
     "execution_count": 37,
     "metadata": {},
     "output_type": "execute_result"
    }
   ],
   "source": [
    "spark.catalog.listTables('mbaUniesp')"
   ]
  },
  {
   "cell_type": "code",
   "execution_count": 38,
   "metadata": {},
   "outputs": [
    {
     "name": "stdout",
     "output_type": "stream",
     "text": [
      "+----+--------------------+--------------------+\n",
      "|  id|           bank_name|                iban|\n",
      "+----+--------------------+--------------------+\n",
      "|4021|AAC CAPITAL PARTN...|GB08GPHW811849899...|\n",
      "|4860|AAC CAPITAL PARTN...|GB63KMHI937505377...|\n",
      "|9273|AAC CAPITAL PARTN...|GB30LVEB769608875...|\n",
      "|3903|AAC CAPITAL PARTN...|GB06JEEA664870875...|\n",
      "|7704|AAC CAPITAL PARTN...|GB63DJKK117071350...|\n",
      "| 352|AAC CAPITAL PARTN...|GB01PVBF998160398...|\n",
      "|9621|AAC CAPITAL PARTN...|GB73TRIL639750550...|\n",
      "|8589|AAC CAPITAL PARTN...|GB92KAFL585685413...|\n",
      "|1172|AAC CAPITAL PARTN...|GB15ZHUN157344910...|\n",
      "|5389|AAC CAPITAL PARTN...|GB55KNIC222437434...|\n",
      "|2565|AAC CAPITAL PARTN...|GB30WXVI106620147...|\n",
      "|1808|AAC CAPITAL PARTN...|GB27GKTC414010430...|\n",
      "| 341|AAC CAPITAL PARTN...|GB36HAXU913504162...|\n",
      "|4896|AAC CAPITAL PARTN...|GB86GTJP394631398...|\n",
      "|4332|AAC CAPITAL PARTN...|GB87OPFS046384927...|\n",
      "|2762|AAC CAPITAL PARTN...|GB35XDDA797034560...|\n",
      "| 282|AAC CAPITAL PARTN...|GB88RYKX129674130...|\n",
      "|6258|AAC CAPITAL PARTN...|GB54DHQF453425097...|\n",
      "|7627|AAC CAPITAL PARTN...|GB48XRZH712666623...|\n",
      "|6730|AAC CAPITAL PARTN...|GB24GLMR159615626...|\n",
      "+----+--------------------+--------------------+\n",
      "only showing top 20 rows\n",
      "\n"
     ]
    }
   ],
   "source": [
    "spark.sql(\"\"\"\n",
    "          SELECT id, bank_name, iban\n",
    "          FROM tb_mba\n",
    "          ORDER BY bank_name ASC\n",
    "          \"\"\").show()"
   ]
  },
  {
   "cell_type": "code",
   "execution_count": 39,
   "metadata": {},
   "outputs": [
    {
     "name": "stdout",
     "output_type": "stream",
     "text": [
      "+-----------------+--------------------+\n",
      "|qtd_user_per_bank|           bank_name|\n",
      "+-----------------+--------------------+\n",
      "|               34|AAC CAPITAL PARTN...|\n",
      "|               38|          ABBEY LIFE|\n",
      "|               33|ABBOTSTONE AGRICU...|\n",
      "|               42|ABC INTERNATIONAL...|\n",
      "|               22|ABG SUNDAL COLLIE...|\n",
      "|               36|ABINGWORTH MANAGE...|\n",
      "|               37|ABN AMRO CORPORAT...|\n",
      "|               53|ABN AMRO FUND MAN...|\n",
      "|               35|ABN AMRO HOARE GO...|\n",
      "|               35|ABN AMRO HOARE GO...|\n",
      "|               40|ABN AMRO HOARE GO...|\n",
      "|               37|ABN AMRO MEZZANIN...|\n",
      "|               41|ABN AMRO QUOTED I...|\n",
      "|               33|ABU DHABI ISLAMIC...|\n",
      "|               66|ALKEN ASSET MANAG...|\n",
      "|               27|ALLIED BANK PHILI...|\n",
      "|               31|OTKRITIE SECURITI...|\n",
      "|               38|PGMS (GLASGOW) LI...|\n",
      "|               38|    SANTANDER UK PLC|\n",
      "|               41|THE ROYAL BANK OF...|\n",
      "+-----------------+--------------------+\n",
      "only showing top 20 rows\n",
      "\n"
     ]
    }
   ],
   "source": [
    "spark.sql(\"\"\"\n",
    "          SELECT count(user_id) as qtd_user_per_bank, bank_name\n",
    "          FROM tb_mba\n",
    "          GROUP BY bank_name\n",
    "          ORDER BY bank_name ASC\n",
    "          \"\"\").show()"
   ]
  },
  {
   "cell_type": "markdown",
   "metadata": {
    "id": "KPQOFMX1TLrU"
   },
   "source": [
    "### User Defined Functions (UDFs)"
   ]
  },
  {
   "cell_type": "markdown",
   "metadata": {
    "id": "x9ZJh9UfAKqv"
   },
   "source": [
    "Em algumas situações é necessário criar/alterar uma coluna utilizando uma operação não implementada na biblioteca padrão. Para isso, é possível utilzar funções definidas pelo usuário (UDFs) por meio da função `udf()`.\n",
    "\n",
    "**Importante**: As udfs não são otimizadas para serem executadas em paralelo, e por isso podem representar um gargalo na na aplicação."
   ]
  },
  {
   "cell_type": "code",
   "execution_count": 43,
   "metadata": {
    "id": "pmMoX5nCADSX",
    "tags": []
   },
   "outputs": [],
   "source": [
    "def convert_santander_name(string):\n",
    "    if string == \"SANTANDER UK PLC\":\n",
    "        return \"SANTANDER MBA UNIESP\"\n",
    "    else:\n",
    "        return string\n",
    "\n",
    "convert_santander_name = f.udf(convert_santander_name, returnType=t.StringType())"
   ]
  },
  {
   "cell_type": "code",
   "execution_count": 44,
   "metadata": {},
   "outputs": [
    {
     "data": {
      "text/plain": [
       "<function __main__.convert_santander_name(string)>"
      ]
     },
     "execution_count": 44,
     "metadata": {},
     "output_type": "execute_result"
    }
   ],
   "source": [
    "convert_santander_name"
   ]
  },
  {
   "cell_type": "code",
   "execution_count": 45,
   "metadata": {
    "colab": {
     "base_uri": "https://localhost:8080/",
     "height": 204
    },
    "id": "D5-VNaSoDG5l",
    "outputId": "33fc2d84-6a17-4a46-9b79-bf170f69acbf"
   },
   "outputs": [
    {
     "name": "stdout",
     "output_type": "stream",
     "text": [
      "+--------------------+\n",
      "|bank_name           |\n",
      "+--------------------+\n",
      "|SANTANDER MBA UNIESP|\n",
      "+--------------------+\n",
      "\n"
     ]
    }
   ],
   "source": [
    "(\n",
    "    df_parquet.select(\"bank_name\")\n",
    "    .withColumn('bank_name', convert_santander_name(f.col('bank_name')))\\\n",
    "    .where(\"bank_name = 'SANTANDER MBA UNIESP'\")\\\n",
    "    .limit(1).show(truncate=False)\n",
    ")"
   ]
  },
  {
   "cell_type": "markdown",
   "metadata": {
    "id": "cxUX_PheS6by"
   },
   "source": [
    "### Joins"
   ]
  },
  {
   "cell_type": "markdown",
   "metadata": {
    "id": "RVfchwYIh5BR"
   },
   "source": [
    "Os joins no pyspark são especificados pela função `join()`, da seguinte forma:\n",
    "\n",
    "```\n",
    "df1.join(df2, {key_columns}, {join_type})\n",
    "```\n",
    "\n",
    "* `key_columns`: colunas que vão ser utilizadas para fazer a junção das tabelas. Pode ser especificada como\n",
    "    * Um único string -> só uma coluna é chave, mesmos nomes nas duas tabelas\n",
    "    * Uma lista de string ou de colunas (`col()`) -> mais de uma coluna é chave, mesmos nomes nas duas tabelas\n",
    "    * Com nomes diferentes, é necessário fazer uma especificação do tipo: `f.col(column1) == f.col(column2)`, em que a coluna da esquerda está no DataFrame da esquerda e analogamente a coluna da direita está no DataFrame da direita. Caso existam mais de uma coluna como chave, essas especificações devem ser colocadas em uma lista.\n",
    "* `join_type`: o tipo de join a ser realizado. As opções são:\n",
    "    * `inner (default)`: INNER JOIN do SQL\n",
    "    * `outer / full / fullouter / full_outer`: : FULL OUTER JOIN do SQL\n",
    "    * `left / leftouter / left_outer`: : LEFT JOIN do SQL\n",
    "    * `right / rightouter / right_outer`: : RIGHT JOIN do SQL\n",
    "    * `semi / leftsemi / left_semi`: realiza um LEFT JOIN do SQL e retorna somente as colunas do DataFrame da esquerda que também estão no DataFrame da Direita\n",
    "    * `anti / leftanti / left_anti`: realiza um LEFT JOIN do SQL e retorna somente as colunas do DataFrame da esquerda que não estão no DataFrame da Direita"
   ]
  },
  {
   "cell_type": "code",
   "execution_count": 46,
   "metadata": {},
   "outputs": [],
   "source": [
    "df_parquet_user = spark.read.format(\"parquet\").load(file_path_parquet_user)"
   ]
  },
  {
   "cell_type": "code",
   "execution_count": 47,
   "metadata": {},
   "outputs": [
    {
     "data": {
      "text/html": [
       "<table border='1'>\n",
       "<tr><th>address</th><th>avatar</th><th>credit_card</th><th>date_of_birth</th><th>dt_current_timestamp</th><th>email</th><th>employment</th><th>first_name</th><th>gender</th><th>id</th><th>last_name</th><th>password</th><th>phone_number</th><th>social_insurance_number</th><th>subscription</th><th>uid</th><th>user_id</th><th>username</th></tr>\n",
       "<tr><td>{Ismaelview, {85....</td><td>https://robohash....</td><td>{6771-8932-7326-9...</td><td>1995-03-19</td><td>1621423978818</td><td>leonardo.adams@em...</td><td>{Organisation, Co...</td><td>Leonardo</td><td>Bigender</td><td>3707</td><td>Adams</td><td>W1nirBgqVT</td><td>+850 847.401.4566...</td><td>196526628</td><td>{Money transfer, ...</td><td>5dcacedc-f75b-456...</td><td>4965</td><td>leonardo.adams</td></tr>\n",
       "<tr><td>{Lake Taisha, {-2...</td><td>https://robohash....</td><td>{4325-2108-3118-7...</td><td>1956-12-19</td><td>1621423978818</td><td>jarred.walker@ema...</td><td>{Confidence, Admi...</td><td>Jarred</td><td>Polygender</td><td>4941</td><td>Walker</td><td>IihGFkrxTv</td><td>+53 181-453-3227 ...</td><td>493978720</td><td>{Money transfer, ...</td><td>5d8058ad-676b-4b8...</td><td>8560</td><td>jarred.walker</td></tr>\n",
       "<tr><td>{Cummingschester,...</td><td>https://robohash....</td><td>{6771-8980-3619-5...</td><td>1993-07-10</td><td>1621423978818</td><td>ezra.brown@email.com</td><td>{Problem solving,...</td><td>Ezra</td><td>Male</td><td>3909</td><td>Brown</td><td>Xx6bYuMyFp</td><td>+27 1-673-818-744...</td><td>208208074</td><td>{Bitcoins, Free T...</td><td>ac909be8-949d-4b4...</td><td>4708</td><td>ezra.brown</td></tr>\n",
       "<tr><td>{Port Aprilland, ...</td><td>https://robohash....</td><td>{6771-8933-3925-1...</td><td>1977-04-21</td><td>1621423978818</td><td>valda.jacobi@emai...</td><td>{Problem solving,...</td><td>Valda</td><td>Genderfluid</td><td>2531</td><td>Jacobi</td><td>zInlShuGdy</td><td>+356 1-136-227-88...</td><td>626072177</td><td>{Cheque, Free Tri...</td><td>e4fa182c-f9c4-4cf...</td><td>7462</td><td>valda.jacobi</td></tr>\n",
       "<tr><td>{West Candelariab...</td><td>https://robohash....</td><td>{4708-0672-7336-6...</td><td>1959-05-18</td><td>1621423978818</td><td>russel.batz@email...</td><td>{Organisation, Se...</td><td>Russel</td><td>Male</td><td>2609</td><td>Batz</td><td>2NaJpfWj8B</td><td>+39 800-778-2977</td><td>519832836</td><td>{Credit card, Gol...</td><td>d6fb351c-9bea-43d...</td><td>2359</td><td>russel.batz</td></tr>\n",
       "<tr><td>{Ratkefurt, {32.1...</td><td>https://robohash....</td><td>{6771-8916-4103-0...</td><td>2001-05-15</td><td>1621423978818</td><td>newton.denesik@em...</td><td>{Networking skill...</td><td>Newton</td><td>Genderqueer</td><td>8790</td><td>Denesik</td><td>1uc7L25t0o</td><td>+676 646-699-5864...</td><td>684527880</td><td>{Alipay, Professi...</td><td>695c85a3-c6d0-450...</td><td>5905</td><td>newton.denesik</td></tr>\n",
       "<tr><td>{East Cherie, {-5...</td><td>https://robohash....</td><td>{6771-8999-3585-7...</td><td>1973-03-19</td><td>1621423978818</td><td>dominick.stiedema...</td><td>{Work under press...</td><td>Dominick</td><td>Male</td><td>3628</td><td>Stiedemann</td><td>M3g4vlHXhy</td><td>+247 (137) 671-55...</td><td>562433672</td><td>{Alipay, Gold, Id...</td><td>50c6a7cb-9ad9-47a...</td><td>2710</td><td>dominick.stiedemann</td></tr>\n",
       "<tr><td>{Port Marvin, {87...</td><td>https://robohash....</td><td>{4353525327895}</td><td>1986-02-03</td><td>1621423978818</td><td>bettye.koelpin@em...</td><td>{Self-motivated, ...</td><td>Bettye</td><td>Bigender</td><td>8628</td><td>Koelpin</td><td>RWst6vSQ1b</td><td>+1-441 1-150-834-...</td><td>793028648</td><td>{Apple Pay, Stude...</td><td>9f89192e-40c4-471...</td><td>8360</td><td>bettye.koelpin</td></tr>\n",
       "<tr><td>{West Haywood, {-...</td><td>https://robohash....</td><td>{6771-8923-1957-9...</td><td>1965-09-06</td><td>1621423978818</td><td>maura.hilll@email...</td><td>{Confidence, Prin...</td><td>Maura</td><td>Genderqueer</td><td>4364</td><td>Hilll</td><td>okXTzNZRUq</td><td>+767 216-368-2621...</td><td>148887201</td><td>{Visa checkout, B...</td><td>f8b057ee-32b0-4ce...</td><td>6366</td><td>maura.hilll</td></tr>\n",
       "<tr><td>{Port Loren, {-36...</td><td>https://robohash....</td><td>{5595-9329-5844-7...</td><td>1997-01-02</td><td>1621423978818</td><td>debbie.collier@em...</td><td>{Problem solving,...</td><td>Debbie</td><td>Male</td><td>643</td><td>Collier</td><td>Ej0VKsAnaW</td><td>+235 1-673-630-4249</td><td>489656157</td><td>{Alipay, Standard...</td><td>551c7ae7-648b-475...</td><td>9143</td><td>debbie.collier</td></tr>\n",
       "</table>\n",
       "only showing top 10 rows\n"
      ],
      "text/plain": [
       "+--------------------+--------------------+--------------------+-------------+--------------------+--------------------+--------------------+----------+-----------+----+----------+----------+--------------------+-----------------------+--------------------+--------------------+-------+-------------------+\n",
       "|             address|              avatar|         credit_card|date_of_birth|dt_current_timestamp|               email|          employment|first_name|     gender|  id| last_name|  password|        phone_number|social_insurance_number|        subscription|                 uid|user_id|           username|\n",
       "+--------------------+--------------------+--------------------+-------------+--------------------+--------------------+--------------------+----------+-----------+----+----------+----------+--------------------+-----------------------+--------------------+--------------------+-------+-------------------+\n",
       "|{Ismaelview, {85....|https://robohash....|{6771-8932-7326-9...|   1995-03-19|       1621423978818|leonardo.adams@em...|{Organisation, Co...|  Leonardo|   Bigender|3707|     Adams|W1nirBgqVT|+850 847.401.4566...|              196526628|{Money transfer, ...|5dcacedc-f75b-456...|   4965|     leonardo.adams|\n",
       "|{Lake Taisha, {-2...|https://robohash....|{4325-2108-3118-7...|   1956-12-19|       1621423978818|jarred.walker@ema...|{Confidence, Admi...|    Jarred| Polygender|4941|    Walker|IihGFkrxTv|+53 181-453-3227 ...|              493978720|{Money transfer, ...|5d8058ad-676b-4b8...|   8560|      jarred.walker|\n",
       "|{Cummingschester,...|https://robohash....|{6771-8980-3619-5...|   1993-07-10|       1621423978818|ezra.brown@email.com|{Problem solving,...|      Ezra|       Male|3909|     Brown|Xx6bYuMyFp|+27 1-673-818-744...|              208208074|{Bitcoins, Free T...|ac909be8-949d-4b4...|   4708|         ezra.brown|\n",
       "|{Port Aprilland, ...|https://robohash....|{6771-8933-3925-1...|   1977-04-21|       1621423978818|valda.jacobi@emai...|{Problem solving,...|     Valda|Genderfluid|2531|    Jacobi|zInlShuGdy|+356 1-136-227-88...|              626072177|{Cheque, Free Tri...|e4fa182c-f9c4-4cf...|   7462|       valda.jacobi|\n",
       "|{West Candelariab...|https://robohash....|{4708-0672-7336-6...|   1959-05-18|       1621423978818|russel.batz@email...|{Organisation, Se...|    Russel|       Male|2609|      Batz|2NaJpfWj8B|    +39 800-778-2977|              519832836|{Credit card, Gol...|d6fb351c-9bea-43d...|   2359|        russel.batz|\n",
       "|{Ratkefurt, {32.1...|https://robohash....|{6771-8916-4103-0...|   2001-05-15|       1621423978818|newton.denesik@em...|{Networking skill...|    Newton|Genderqueer|8790|   Denesik|1uc7L25t0o|+676 646-699-5864...|              684527880|{Alipay, Professi...|695c85a3-c6d0-450...|   5905|     newton.denesik|\n",
       "|{East Cherie, {-5...|https://robohash....|{6771-8999-3585-7...|   1973-03-19|       1621423978818|dominick.stiedema...|{Work under press...|  Dominick|       Male|3628|Stiedemann|M3g4vlHXhy|+247 (137) 671-55...|              562433672|{Alipay, Gold, Id...|50c6a7cb-9ad9-47a...|   2710|dominick.stiedemann|\n",
       "|{Port Marvin, {87...|https://robohash....|     {4353525327895}|   1986-02-03|       1621423978818|bettye.koelpin@em...|{Self-motivated, ...|    Bettye|   Bigender|8628|   Koelpin|RWst6vSQ1b|+1-441 1-150-834-...|              793028648|{Apple Pay, Stude...|9f89192e-40c4-471...|   8360|     bettye.koelpin|\n",
       "|{West Haywood, {-...|https://robohash....|{6771-8923-1957-9...|   1965-09-06|       1621423978818|maura.hilll@email...|{Confidence, Prin...|     Maura|Genderqueer|4364|     Hilll|okXTzNZRUq|+767 216-368-2621...|              148887201|{Visa checkout, B...|f8b057ee-32b0-4ce...|   6366|        maura.hilll|\n",
       "|{Port Loren, {-36...|https://robohash....|{5595-9329-5844-7...|   1997-01-02|       1621423978818|debbie.collier@em...|{Problem solving,...|    Debbie|       Male| 643|   Collier|Ej0VKsAnaW| +235 1-673-630-4249|              489656157|{Alipay, Standard...|551c7ae7-648b-475...|   9143|     debbie.collier|\n",
       "+--------------------+--------------------+--------------------+-------------+--------------------+--------------------+--------------------+----------+-----------+----+----------+----------+--------------------+-----------------------+--------------------+--------------------+-------+-------------------+\n",
       "only showing top 10 rows"
      ]
     },
     "execution_count": 47,
     "metadata": {},
     "output_type": "execute_result"
    }
   ],
   "source": [
    "df_parquet_user"
   ]
  },
  {
   "cell_type": "code",
   "execution_count": 48,
   "metadata": {},
   "outputs": [
    {
     "data": {
      "text/html": [
       "<table border='1'>\n",
       "<tr><th>account_number</th><th>bank_name</th><th>dt_current_timestamp</th><th>iban</th><th>id</th><th>routing_number</th><th>swift_bic</th><th>uid</th><th>user_id</th></tr>\n",
       "<tr><td>0267608433</td><td>ABN AMRO CORPORAT...</td><td>1619454485308</td><td>GB78DZFZ380630884...</td><td>1957</td><td>295965484</td><td>BSABGB2LXXX</td><td>8b3f376b-0adf-4f8...</td><td>5641</td></tr>\n",
       "<tr><td>7052327864</td><td>ABN AMRO HOARE GO...</td><td>1619454485308</td><td>GB29ZZRW634222451...</td><td>4911</td><td>274059719</td><td>AAFMGB21</td><td>0bb4c571-a21d-461...</td><td>3006</td></tr>\n",
       "<tr><td>3296123731</td><td>ABINGWORTH MANAGE...</td><td>1619454485308</td><td>GB27LPUN514365223...</td><td>5275</td><td>314786939</td><td>BSABGB2LXXX</td><td>c3d9ea2c-5e58-416...</td><td>9348</td></tr>\n",
       "<tr><td>3455902680</td><td>UBS CLEARING AND ...</td><td>1619454485308</td><td>GB84VPOW303511892...</td><td>7312</td><td>256999143</td><td>AIBKGB2XTSY</td><td>c188b6ac-e5da-4c9...</td><td>4920</td></tr>\n",
       "<tr><td>6799197420</td><td>ABN AMRO QUOTED I...</td><td>1619454485308</td><td>GB73LSLX976213143...</td><td>1428</td><td>219280860</td><td>BOFAGB22SEC</td><td>72a2f0eb-657b-477...</td><td>9612</td></tr>\n",
       "<tr><td>3734311084</td><td>ABN AMRO HOARE GO...</td><td>1619454485308</td><td>GB44BRFS970776726...</td><td>258</td><td>712952857</td><td>ABCCGB22</td><td>625d209c-00fd-429...</td><td>8354</td></tr>\n",
       "<tr><td>2074989437</td><td>ALLIED BANK PHILI...</td><td>1619454485308</td><td>GB72RJCG710095607...</td><td>4639</td><td>721592567</td><td>BOFAGB3SSWI</td><td>bbcd32b6-23c0-453...</td><td>8029</td></tr>\n",
       "<tr><td>8638293794</td><td>ABBOTSTONE AGRICU...</td><td>1619454485308</td><td>GB54HCJD358743036...</td><td>194</td><td>113613258</td><td>BOFAGB22OF2</td><td>7dd2e788-7482-405...</td><td>7</td></tr>\n",
       "<tr><td>2432252121</td><td>ABBOTSTONE AGRICU...</td><td>1619454485308</td><td>GB70AFAV412241071...</td><td>1104</td><td>249410587</td><td>ABBYGB2L</td><td>f9aa6f43-a445-437...</td><td>1654</td></tr>\n",
       "<tr><td>1037172675</td><td>ALKEN ASSET MANAG...</td><td>1619454485308</td><td>GB53WVHS695074027...</td><td>1149</td><td>216860869</td><td>ABAZGB21</td><td>a593098e-c986-47d...</td><td>7280</td></tr>\n",
       "</table>\n",
       "only showing top 10 rows\n"
      ],
      "text/plain": [
       "DataFrame[account_number: string, bank_name: string, dt_current_timestamp: bigint, iban: string, id: bigint, routing_number: string, swift_bic: string, uid: string, user_id: bigint]"
      ]
     },
     "execution_count": 48,
     "metadata": {},
     "output_type": "execute_result"
    }
   ],
   "source": [
    "df_parquet"
   ]
  },
  {
   "cell_type": "code",
   "execution_count": 49,
   "metadata": {
    "id": "dQsKy0XS5Amr",
    "outputId": "febb92b8-9dc6-44a1-986c-0e56be10df00"
   },
   "outputs": [],
   "source": [
    "df_bank_user = df_parquet.join(df_parquet_user, df_parquet_user.user_id == df_parquet.user_id, how=\"inner\")"
   ]
  },
  {
   "cell_type": "code",
   "execution_count": 50,
   "metadata": {},
   "outputs": [
    {
     "name": "stderr",
     "output_type": "stream",
     "text": [
      "22/09/24 06:42:33 WARN package: Truncated the string representation of a plan since it was too large. This behavior can be adjusted by setting 'spark.sql.debug.maxToStringFields'.\n"
     ]
    },
    {
     "data": {
      "text/html": [
       "<table border='1'>\n",
       "<tr><th>account_number</th><th>bank_name</th><th>dt_current_timestamp</th><th>iban</th><th>id</th><th>routing_number</th><th>swift_bic</th><th>uid</th><th>user_id</th><th>address</th><th>avatar</th><th>credit_card</th><th>date_of_birth</th><th>dt_current_timestamp</th><th>email</th><th>employment</th><th>first_name</th><th>gender</th><th>id</th><th>last_name</th><th>password</th><th>phone_number</th><th>social_insurance_number</th><th>subscription</th><th>uid</th><th>user_id</th><th>username</th></tr>\n",
       "<tr><td>0830993895</td><td>SANTANDER UK PLC</td><td>1621424024870</td><td>GB64ZETE821173493...</td><td>9322</td><td>664938372</td><td>ASTPGB2LXXX</td><td>4a0ad80e-7b54-4db...</td><td>1799</td><td>{Deckowborough, {...</td><td>https://robohash....</td><td>{5410-4643-6308-7...</td><td>1995-01-24</td><td>1621423978818</td><td>michel.gerhold@em...</td><td>{Proactive, Sales...</td><td>Michel</td><td>Bigender</td><td>9990</td><td>Gerhold</td><td>nTtw7a5ml6</td><td>+1-264 (771) 594-...</td><td>267136174</td><td>{Paypal, Silver, ...</td><td>bcd297a4-a1ca-40e...</td><td>1799</td><td>michel.gerhold</td></tr>\n",
       "<tr><td>1472811786</td><td>PGMS (GLASGOW) LI...</td><td>1621423988624</td><td>GB17PYSP219896836...</td><td>4601</td><td>227096512</td><td>AAFMGB21</td><td>a447b1df-50e5-48e...</td><td>7622</td><td>{Arlietown, {-84....</td><td>https://robohash....</td><td>{4275045713561}</td><td>1992-06-19</td><td>1621423978818</td><td>jed.bradtke@email...</td><td>{Confidence, Cent...</td><td>Jed</td><td>Male</td><td>6066</td><td>Bradtke</td><td>kJF1eSOjzX</td><td>+91 (682) 286-821...</td><td>379445844</td><td>{Credit card, Dia...</td><td>065caf11-22ca-467...</td><td>7622</td><td>jed.bradtke</td></tr>\n",
       "<tr><td>3475583434</td><td>ABC INTERNATIONAL...</td><td>1619454426543</td><td>GB96UPZQ986634859...</td><td>3136</td><td>081323942</td><td>ANTSGB2LCHA</td><td>e1b2b753-7698-4b6...</td><td>5526</td><td>{East Gail, {39.9...</td><td>https://robohash....</td><td>{6771-8917-1698-3...</td><td>1969-07-11</td><td>1621423978818</td><td>francesca.powlows...</td><td>{Teamwork, Distri...</td><td>Francesca</td><td>Male</td><td>7251</td><td>Powlowski</td><td>XusDx8V64o</td><td>+995 1-644-086-85...</td><td>200847770</td><td>{Money transfer, ...</td><td>fdbfbf81-dcad-453...</td><td>5526</td><td>francesca.powlowski</td></tr>\n",
       "<tr><td>3798544946</td><td>ALKEN ASSET MANAG...</td><td>1621352240037</td><td>GB11QZKH535298337...</td><td>334</td><td>229140877</td><td>ABMNGB21</td><td>ee93874b-d5ea-461...</td><td>7365</td><td>{West Alchester, ...</td><td>https://robohash....</td><td>{4565697938247}</td><td>1979-10-08</td><td>1621423978818</td><td>jame.beier@email.com</td><td>{Work under press...</td><td>Jame</td><td>Bigender</td><td>8314</td><td>Beier</td><td>9njCMXSfBI</td><td>+249 833-281-3317</td><td>609911417</td><td>{WeChat Pay, Bron...</td><td>12a4af63-dfb8-4d6...</td><td>7365</td><td>jame.beier</td></tr>\n",
       "<tr><td>3231471013</td><td>ABBEY LIFE</td><td>1619454557330</td><td>GB21VJFB094871018...</td><td>4766</td><td>678232446</td><td>AANLGB21</td><td>861d45c9-84bc-49e...</td><td>911</td><td>{Sawaynfort, {-9....</td><td>https://robohash....</td><td>{5462-6509-3871-9...</td><td>1976-11-16</td><td>1621352230241</td><td>bryan.hessel@emai...</td><td>{Proactive, Natio...</td><td>Bryan</td><td>Polygender</td><td>1411</td><td>Hessel</td><td>JHBziwIKTo</td><td>+351 1-376-202-8010</td><td>916839095</td><td>{Debit card, Free...</td><td>e7cb5ed9-3fa7-417...</td><td>911</td><td>bryan.hessel</td></tr>\n",
       "<tr><td>0895491202</td><td>ALKEN ASSET MANAG...</td><td>1619454345320</td><td>GB26SBCK060642856...</td><td>8067</td><td>614665132</td><td>ALEIGB22TSY</td><td>feaf2251-44b9-462...</td><td>8189</td><td>{New Kylefurt, {1...</td><td>https://robohash....</td><td>{6771-8931-9121-2...</td><td>1966-09-26</td><td>1621352230241</td><td>sid.pollich@email...</td><td>{Organisation, Dy...</td><td>Sid</td><td>Genderfluid</td><td>9381</td><td>Pollich</td><td>SK0WeiMs2y</td><td>+86 1-370-764-611...</td><td>664216405</td><td>{Debit card, Bron...</td><td>7ce234c4-f518-44f...</td><td>8189</td><td>sid.pollich</td></tr>\n",
       "<tr><td>5359243730</td><td>ABN AMRO HOARE GO...</td><td>1619454426543</td><td>GB33SIUH872338545...</td><td>3694</td><td>012569225</td><td>AAHVGB21</td><td>24abccd1-6943-43b...</td><td>8189</td><td>{New Kylefurt, {1...</td><td>https://robohash....</td><td>{6771-8931-9121-2...</td><td>1966-09-26</td><td>1621352230241</td><td>sid.pollich@email...</td><td>{Organisation, Dy...</td><td>Sid</td><td>Genderfluid</td><td>9381</td><td>Pollich</td><td>SK0WeiMs2y</td><td>+86 1-370-764-611...</td><td>664216405</td><td>{Debit card, Bron...</td><td>7ce234c4-f518-44f...</td><td>8189</td><td>sid.pollich</td></tr>\n",
       "<tr><td>0026467981</td><td>ABN AMRO HOARE GO...</td><td>1621424024870</td><td>GB13SUXA661714039...</td><td>4845</td><td>322562695</td><td>BARBGB2LKIL</td><td>09a511d6-7dbe-4af...</td><td>6292</td><td>{North Jayshire, ...</td><td>https://robohash....</td><td>{5350-3484-2320-6...</td><td>1974-02-12</td><td>1621352230241</td><td>tony.mcdermott@em...</td><td>{Technical savvy,...</td><td>Tony</td><td>Genderfluid</td><td>579</td><td>McDermott</td><td>UKVHNnYevM</td><td>+249 1-761-469-0510</td><td>636747594</td><td>{Google Pay, Star...</td><td>ce975986-a741-456...</td><td>6292</td><td>tony.mcdermott</td></tr>\n",
       "<tr><td>4964089789</td><td>ABN AMRO HOARE GO...</td><td>1621352240037</td><td>GB59KYGX058124153...</td><td>7</td><td>117375848</td><td>UBKLGB2LBAK</td><td>0297c77e-7671-4d8...</td><td>6292</td><td>{North Jayshire, ...</td><td>https://robohash....</td><td>{5350-3484-2320-6...</td><td>1974-02-12</td><td>1621352230241</td><td>tony.mcdermott@em...</td><td>{Technical savvy,...</td><td>Tony</td><td>Genderfluid</td><td>579</td><td>McDermott</td><td>UKVHNnYevM</td><td>+249 1-761-469-0510</td><td>636747594</td><td>{Google Pay, Star...</td><td>ce975986-a741-456...</td><td>6292</td><td>tony.mcdermott</td></tr>\n",
       "<tr><td>3738006865</td><td>ALKEN ASSET MANAG...</td><td>1621352240037</td><td>GB58MPHX711973527...</td><td>7052</td><td>233256715</td><td>BOFAGB4TCDO</td><td>ef5f108c-68bd-4e0...</td><td>6325</td><td>{O&#x27;Reillymouth, {...</td><td>https://robohash....</td><td>{5128-7465-3936-3...</td><td>1967-01-28</td><td>1621352230241</td><td>duane.schaefer@em...</td><td>{Confidence, Gove...</td><td>Duane</td><td>Female</td><td>8096</td><td>Schaefer</td><td>R5pjJtHLKU</td><td>+91 (491) 908-440...</td><td>679775403</td><td>{Visa checkout, P...</td><td>25669b19-3afb-450...</td><td>6325</td><td>duane.schaefer</td></tr>\n",
       "</table>\n",
       "only showing top 10 rows\n"
      ],
      "text/plain": [
       "+--------------+--------------------+--------------------+--------------------+----+--------------+-----------+--------------------+-------+--------------------+--------------------+--------------------+-------------+--------------------+--------------------+--------------------+----------+-----------+----+---------+----------+--------------------+-----------------------+--------------------+--------------------+-------+-------------------+\n",
       "|account_number|           bank_name|dt_current_timestamp|                iban|  id|routing_number|  swift_bic|                 uid|user_id|             address|              avatar|         credit_card|date_of_birth|dt_current_timestamp|               email|          employment|first_name|     gender|  id|last_name|  password|        phone_number|social_insurance_number|        subscription|                 uid|user_id|           username|\n",
       "+--------------+--------------------+--------------------+--------------------+----+--------------+-----------+--------------------+-------+--------------------+--------------------+--------------------+-------------+--------------------+--------------------+--------------------+----------+-----------+----+---------+----------+--------------------+-----------------------+--------------------+--------------------+-------+-------------------+\n",
       "|    0830993895|    SANTANDER UK PLC|       1621424024870|GB64ZETE821173493...|9322|     664938372|ASTPGB2LXXX|4a0ad80e-7b54-4db...|   1799|{Deckowborough, {...|https://robohash....|{5410-4643-6308-7...|   1995-01-24|       1621423978818|michel.gerhold@em...|{Proactive, Sales...|    Michel|   Bigender|9990|  Gerhold|nTtw7a5ml6|+1-264 (771) 594-...|              267136174|{Paypal, Silver, ...|bcd297a4-a1ca-40e...|   1799|     michel.gerhold|\n",
       "|    1472811786|PGMS (GLASGOW) LI...|       1621423988624|GB17PYSP219896836...|4601|     227096512|   AAFMGB21|a447b1df-50e5-48e...|   7622|{Arlietown, {-84....|https://robohash....|     {4275045713561}|   1992-06-19|       1621423978818|jed.bradtke@email...|{Confidence, Cent...|       Jed|       Male|6066|  Bradtke|kJF1eSOjzX|+91 (682) 286-821...|              379445844|{Credit card, Dia...|065caf11-22ca-467...|   7622|        jed.bradtke|\n",
       "|    3475583434|ABC INTERNATIONAL...|       1619454426543|GB96UPZQ986634859...|3136|     081323942|ANTSGB2LCHA|e1b2b753-7698-4b6...|   5526|{East Gail, {39.9...|https://robohash....|{6771-8917-1698-3...|   1969-07-11|       1621423978818|francesca.powlows...|{Teamwork, Distri...| Francesca|       Male|7251|Powlowski|XusDx8V64o|+995 1-644-086-85...|              200847770|{Money transfer, ...|fdbfbf81-dcad-453...|   5526|francesca.powlowski|\n",
       "|    3798544946|ALKEN ASSET MANAG...|       1621352240037|GB11QZKH535298337...| 334|     229140877|   ABMNGB21|ee93874b-d5ea-461...|   7365|{West Alchester, ...|https://robohash....|     {4565697938247}|   1979-10-08|       1621423978818|jame.beier@email.com|{Work under press...|      Jame|   Bigender|8314|    Beier|9njCMXSfBI|   +249 833-281-3317|              609911417|{WeChat Pay, Bron...|12a4af63-dfb8-4d6...|   7365|         jame.beier|\n",
       "|    3231471013|          ABBEY LIFE|       1619454557330|GB21VJFB094871018...|4766|     678232446|   AANLGB21|861d45c9-84bc-49e...|    911|{Sawaynfort, {-9....|https://robohash....|{5462-6509-3871-9...|   1976-11-16|       1621352230241|bryan.hessel@emai...|{Proactive, Natio...|     Bryan| Polygender|1411|   Hessel|JHBziwIKTo| +351 1-376-202-8010|              916839095|{Debit card, Free...|e7cb5ed9-3fa7-417...|    911|       bryan.hessel|\n",
       "|    0895491202|ALKEN ASSET MANAG...|       1619454345320|GB26SBCK060642856...|8067|     614665132|ALEIGB22TSY|feaf2251-44b9-462...|   8189|{New Kylefurt, {1...|https://robohash....|{6771-8931-9121-2...|   1966-09-26|       1621352230241|sid.pollich@email...|{Organisation, Dy...|       Sid|Genderfluid|9381|  Pollich|SK0WeiMs2y|+86 1-370-764-611...|              664216405|{Debit card, Bron...|7ce234c4-f518-44f...|   8189|        sid.pollich|\n",
       "|    5359243730|ABN AMRO HOARE GO...|       1619454426543|GB33SIUH872338545...|3694|     012569225|   AAHVGB21|24abccd1-6943-43b...|   8189|{New Kylefurt, {1...|https://robohash....|{6771-8931-9121-2...|   1966-09-26|       1621352230241|sid.pollich@email...|{Organisation, Dy...|       Sid|Genderfluid|9381|  Pollich|SK0WeiMs2y|+86 1-370-764-611...|              664216405|{Debit card, Bron...|7ce234c4-f518-44f...|   8189|        sid.pollich|\n",
       "|    0026467981|ABN AMRO HOARE GO...|       1621424024870|GB13SUXA661714039...|4845|     322562695|BARBGB2LKIL|09a511d6-7dbe-4af...|   6292|{North Jayshire, ...|https://robohash....|{5350-3484-2320-6...|   1974-02-12|       1621352230241|tony.mcdermott@em...|{Technical savvy,...|      Tony|Genderfluid| 579|McDermott|UKVHNnYevM| +249 1-761-469-0510|              636747594|{Google Pay, Star...|ce975986-a741-456...|   6292|     tony.mcdermott|\n",
       "|    4964089789|ABN AMRO HOARE GO...|       1621352240037|GB59KYGX058124153...|   7|     117375848|UBKLGB2LBAK|0297c77e-7671-4d8...|   6292|{North Jayshire, ...|https://robohash....|{5350-3484-2320-6...|   1974-02-12|       1621352230241|tony.mcdermott@em...|{Technical savvy,...|      Tony|Genderfluid| 579|McDermott|UKVHNnYevM| +249 1-761-469-0510|              636747594|{Google Pay, Star...|ce975986-a741-456...|   6292|     tony.mcdermott|\n",
       "|    3738006865|ALKEN ASSET MANAG...|       1621352240037|GB58MPHX711973527...|7052|     233256715|BOFAGB4TCDO|ef5f108c-68bd-4e0...|   6325|{O'Reillymouth, {...|https://robohash....|{5128-7465-3936-3...|   1967-01-28|       1621352230241|duane.schaefer@em...|{Confidence, Gove...|     Duane|     Female|8096| Schaefer|R5pjJtHLKU|+91 (491) 908-440...|              679775403|{Visa checkout, P...|25669b19-3afb-450...|   6325|     duane.schaefer|\n",
       "+--------------+--------------------+--------------------+--------------------+----+--------------+-----------+--------------------+-------+--------------------+--------------------+--------------------+-------------+--------------------+--------------------+--------------------+----------+-----------+----+---------+----------+--------------------+-----------------------+--------------------+--------------------+-------+-------------------+\n",
       "only showing top 10 rows"
      ]
     },
     "execution_count": 50,
     "metadata": {},
     "output_type": "execute_result"
    }
   ],
   "source": [
    "df_bank_user"
   ]
  },
  {
   "cell_type": "markdown",
   "metadata": {
    "id": "UdKFY2uxNwrs"
   },
   "source": [
    "### Salvando os Dados"
   ]
  },
  {
   "cell_type": "markdown",
   "metadata": {
    "id": "wdDLyQqQPXz8"
   },
   "source": [
    "Para a escrita dos dados, importante ressaltar a seguinte opção\n",
    "* mode: especifica o comportamento da operação de escrita dos dados, caso eles já existam\n",
    "  * append: Anexa o conteudo do DataFrame aos dados existentes.\n",
    "  * overwrite: Sobrescreve dados existentes.\n",
    "  * ignore: Ignora silenciosamente essa oprecao se os dados ja existirem.\n",
    "  * error or errorifexists (default): Retorna erro se os dados ja existirem."
   ]
  },
  {
   "cell_type": "code",
   "execution_count": 51,
   "metadata": {},
   "outputs": [],
   "source": [
    "cols = [\"username\",\"first_name\",\"last_name\",\"gender\",\"bank_name\"]"
   ]
  },
  {
   "cell_type": "code",
   "execution_count": 52,
   "metadata": {},
   "outputs": [],
   "source": [
    "df = df_bank_user.coalesce(1)"
   ]
  },
  {
   "cell_type": "code",
   "execution_count": 53,
   "metadata": {},
   "outputs": [
    {
     "data": {
      "text/plain": [
       "1"
      ]
     },
     "execution_count": 53,
     "metadata": {},
     "output_type": "execute_result"
    }
   ],
   "source": [
    "df.rdd.getNumPartitions()"
   ]
  },
  {
   "cell_type": "code",
   "execution_count": 54,
   "metadata": {},
   "outputs": [
    {
     "data": {
      "text/html": [
       "<table border='1'>\n",
       "<tr><th>account_number</th><th>bank_name</th><th>dt_current_timestamp</th><th>iban</th><th>id</th><th>routing_number</th><th>swift_bic</th><th>uid</th><th>user_id</th><th>address</th><th>avatar</th><th>credit_card</th><th>date_of_birth</th><th>dt_current_timestamp</th><th>email</th><th>employment</th><th>first_name</th><th>gender</th><th>id</th><th>last_name</th><th>password</th><th>phone_number</th><th>social_insurance_number</th><th>subscription</th><th>uid</th><th>user_id</th><th>username</th></tr>\n",
       "<tr><td>0830993895</td><td>SANTANDER UK PLC</td><td>1621424024870</td><td>GB64ZETE821173493...</td><td>9322</td><td>664938372</td><td>ASTPGB2LXXX</td><td>4a0ad80e-7b54-4db...</td><td>1799</td><td>{Deckowborough, {...</td><td>https://robohash....</td><td>{5410-4643-6308-7...</td><td>1995-01-24</td><td>1621423978818</td><td>michel.gerhold@em...</td><td>{Proactive, Sales...</td><td>Michel</td><td>Bigender</td><td>9990</td><td>Gerhold</td><td>nTtw7a5ml6</td><td>+1-264 (771) 594-...</td><td>267136174</td><td>{Paypal, Silver, ...</td><td>bcd297a4-a1ca-40e...</td><td>1799</td><td>michel.gerhold</td></tr>\n",
       "<tr><td>1472811786</td><td>PGMS (GLASGOW) LI...</td><td>1621423988624</td><td>GB17PYSP219896836...</td><td>4601</td><td>227096512</td><td>AAFMGB21</td><td>a447b1df-50e5-48e...</td><td>7622</td><td>{Arlietown, {-84....</td><td>https://robohash....</td><td>{4275045713561}</td><td>1992-06-19</td><td>1621423978818</td><td>jed.bradtke@email...</td><td>{Confidence, Cent...</td><td>Jed</td><td>Male</td><td>6066</td><td>Bradtke</td><td>kJF1eSOjzX</td><td>+91 (682) 286-821...</td><td>379445844</td><td>{Credit card, Dia...</td><td>065caf11-22ca-467...</td><td>7622</td><td>jed.bradtke</td></tr>\n",
       "<tr><td>3475583434</td><td>ABC INTERNATIONAL...</td><td>1619454426543</td><td>GB96UPZQ986634859...</td><td>3136</td><td>081323942</td><td>ANTSGB2LCHA</td><td>e1b2b753-7698-4b6...</td><td>5526</td><td>{East Gail, {39.9...</td><td>https://robohash....</td><td>{6771-8917-1698-3...</td><td>1969-07-11</td><td>1621423978818</td><td>francesca.powlows...</td><td>{Teamwork, Distri...</td><td>Francesca</td><td>Male</td><td>7251</td><td>Powlowski</td><td>XusDx8V64o</td><td>+995 1-644-086-85...</td><td>200847770</td><td>{Money transfer, ...</td><td>fdbfbf81-dcad-453...</td><td>5526</td><td>francesca.powlowski</td></tr>\n",
       "<tr><td>3798544946</td><td>ALKEN ASSET MANAG...</td><td>1621352240037</td><td>GB11QZKH535298337...</td><td>334</td><td>229140877</td><td>ABMNGB21</td><td>ee93874b-d5ea-461...</td><td>7365</td><td>{West Alchester, ...</td><td>https://robohash....</td><td>{4565697938247}</td><td>1979-10-08</td><td>1621423978818</td><td>jame.beier@email.com</td><td>{Work under press...</td><td>Jame</td><td>Bigender</td><td>8314</td><td>Beier</td><td>9njCMXSfBI</td><td>+249 833-281-3317</td><td>609911417</td><td>{WeChat Pay, Bron...</td><td>12a4af63-dfb8-4d6...</td><td>7365</td><td>jame.beier</td></tr>\n",
       "<tr><td>3231471013</td><td>ABBEY LIFE</td><td>1619454557330</td><td>GB21VJFB094871018...</td><td>4766</td><td>678232446</td><td>AANLGB21</td><td>861d45c9-84bc-49e...</td><td>911</td><td>{Sawaynfort, {-9....</td><td>https://robohash....</td><td>{5462-6509-3871-9...</td><td>1976-11-16</td><td>1621352230241</td><td>bryan.hessel@emai...</td><td>{Proactive, Natio...</td><td>Bryan</td><td>Polygender</td><td>1411</td><td>Hessel</td><td>JHBziwIKTo</td><td>+351 1-376-202-8010</td><td>916839095</td><td>{Debit card, Free...</td><td>e7cb5ed9-3fa7-417...</td><td>911</td><td>bryan.hessel</td></tr>\n",
       "<tr><td>0895491202</td><td>ALKEN ASSET MANAG...</td><td>1619454345320</td><td>GB26SBCK060642856...</td><td>8067</td><td>614665132</td><td>ALEIGB22TSY</td><td>feaf2251-44b9-462...</td><td>8189</td><td>{New Kylefurt, {1...</td><td>https://robohash....</td><td>{6771-8931-9121-2...</td><td>1966-09-26</td><td>1621352230241</td><td>sid.pollich@email...</td><td>{Organisation, Dy...</td><td>Sid</td><td>Genderfluid</td><td>9381</td><td>Pollich</td><td>SK0WeiMs2y</td><td>+86 1-370-764-611...</td><td>664216405</td><td>{Debit card, Bron...</td><td>7ce234c4-f518-44f...</td><td>8189</td><td>sid.pollich</td></tr>\n",
       "<tr><td>5359243730</td><td>ABN AMRO HOARE GO...</td><td>1619454426543</td><td>GB33SIUH872338545...</td><td>3694</td><td>012569225</td><td>AAHVGB21</td><td>24abccd1-6943-43b...</td><td>8189</td><td>{New Kylefurt, {1...</td><td>https://robohash....</td><td>{6771-8931-9121-2...</td><td>1966-09-26</td><td>1621352230241</td><td>sid.pollich@email...</td><td>{Organisation, Dy...</td><td>Sid</td><td>Genderfluid</td><td>9381</td><td>Pollich</td><td>SK0WeiMs2y</td><td>+86 1-370-764-611...</td><td>664216405</td><td>{Debit card, Bron...</td><td>7ce234c4-f518-44f...</td><td>8189</td><td>sid.pollich</td></tr>\n",
       "<tr><td>0026467981</td><td>ABN AMRO HOARE GO...</td><td>1621424024870</td><td>GB13SUXA661714039...</td><td>4845</td><td>322562695</td><td>BARBGB2LKIL</td><td>09a511d6-7dbe-4af...</td><td>6292</td><td>{North Jayshire, ...</td><td>https://robohash....</td><td>{5350-3484-2320-6...</td><td>1974-02-12</td><td>1621352230241</td><td>tony.mcdermott@em...</td><td>{Technical savvy,...</td><td>Tony</td><td>Genderfluid</td><td>579</td><td>McDermott</td><td>UKVHNnYevM</td><td>+249 1-761-469-0510</td><td>636747594</td><td>{Google Pay, Star...</td><td>ce975986-a741-456...</td><td>6292</td><td>tony.mcdermott</td></tr>\n",
       "<tr><td>4964089789</td><td>ABN AMRO HOARE GO...</td><td>1621352240037</td><td>GB59KYGX058124153...</td><td>7</td><td>117375848</td><td>UBKLGB2LBAK</td><td>0297c77e-7671-4d8...</td><td>6292</td><td>{North Jayshire, ...</td><td>https://robohash....</td><td>{5350-3484-2320-6...</td><td>1974-02-12</td><td>1621352230241</td><td>tony.mcdermott@em...</td><td>{Technical savvy,...</td><td>Tony</td><td>Genderfluid</td><td>579</td><td>McDermott</td><td>UKVHNnYevM</td><td>+249 1-761-469-0510</td><td>636747594</td><td>{Google Pay, Star...</td><td>ce975986-a741-456...</td><td>6292</td><td>tony.mcdermott</td></tr>\n",
       "<tr><td>3738006865</td><td>ALKEN ASSET MANAG...</td><td>1621352240037</td><td>GB58MPHX711973527...</td><td>7052</td><td>233256715</td><td>BOFAGB4TCDO</td><td>ef5f108c-68bd-4e0...</td><td>6325</td><td>{O&#x27;Reillymouth, {...</td><td>https://robohash....</td><td>{5128-7465-3936-3...</td><td>1967-01-28</td><td>1621352230241</td><td>duane.schaefer@em...</td><td>{Confidence, Gove...</td><td>Duane</td><td>Female</td><td>8096</td><td>Schaefer</td><td>R5pjJtHLKU</td><td>+91 (491) 908-440...</td><td>679775403</td><td>{Visa checkout, P...</td><td>25669b19-3afb-450...</td><td>6325</td><td>duane.schaefer</td></tr>\n",
       "</table>\n",
       "only showing top 10 rows\n"
      ],
      "text/plain": [
       "+--------------+--------------------+--------------------+--------------------+----+--------------+-----------+--------------------+-------+--------------------+--------------------+--------------------+-------------+--------------------+--------------------+--------------------+----------+-----------+----+---------+----------+--------------------+-----------------------+--------------------+--------------------+-------+-------------------+\n",
       "|account_number|           bank_name|dt_current_timestamp|                iban|  id|routing_number|  swift_bic|                 uid|user_id|             address|              avatar|         credit_card|date_of_birth|dt_current_timestamp|               email|          employment|first_name|     gender|  id|last_name|  password|        phone_number|social_insurance_number|        subscription|                 uid|user_id|           username|\n",
       "+--------------+--------------------+--------------------+--------------------+----+--------------+-----------+--------------------+-------+--------------------+--------------------+--------------------+-------------+--------------------+--------------------+--------------------+----------+-----------+----+---------+----------+--------------------+-----------------------+--------------------+--------------------+-------+-------------------+\n",
       "|    0830993895|    SANTANDER UK PLC|       1621424024870|GB64ZETE821173493...|9322|     664938372|ASTPGB2LXXX|4a0ad80e-7b54-4db...|   1799|{Deckowborough, {...|https://robohash....|{5410-4643-6308-7...|   1995-01-24|       1621423978818|michel.gerhold@em...|{Proactive, Sales...|    Michel|   Bigender|9990|  Gerhold|nTtw7a5ml6|+1-264 (771) 594-...|              267136174|{Paypal, Silver, ...|bcd297a4-a1ca-40e...|   1799|     michel.gerhold|\n",
       "|    1472811786|PGMS (GLASGOW) LI...|       1621423988624|GB17PYSP219896836...|4601|     227096512|   AAFMGB21|a447b1df-50e5-48e...|   7622|{Arlietown, {-84....|https://robohash....|     {4275045713561}|   1992-06-19|       1621423978818|jed.bradtke@email...|{Confidence, Cent...|       Jed|       Male|6066|  Bradtke|kJF1eSOjzX|+91 (682) 286-821...|              379445844|{Credit card, Dia...|065caf11-22ca-467...|   7622|        jed.bradtke|\n",
       "|    3475583434|ABC INTERNATIONAL...|       1619454426543|GB96UPZQ986634859...|3136|     081323942|ANTSGB2LCHA|e1b2b753-7698-4b6...|   5526|{East Gail, {39.9...|https://robohash....|{6771-8917-1698-3...|   1969-07-11|       1621423978818|francesca.powlows...|{Teamwork, Distri...| Francesca|       Male|7251|Powlowski|XusDx8V64o|+995 1-644-086-85...|              200847770|{Money transfer, ...|fdbfbf81-dcad-453...|   5526|francesca.powlowski|\n",
       "|    3798544946|ALKEN ASSET MANAG...|       1621352240037|GB11QZKH535298337...| 334|     229140877|   ABMNGB21|ee93874b-d5ea-461...|   7365|{West Alchester, ...|https://robohash....|     {4565697938247}|   1979-10-08|       1621423978818|jame.beier@email.com|{Work under press...|      Jame|   Bigender|8314|    Beier|9njCMXSfBI|   +249 833-281-3317|              609911417|{WeChat Pay, Bron...|12a4af63-dfb8-4d6...|   7365|         jame.beier|\n",
       "|    3231471013|          ABBEY LIFE|       1619454557330|GB21VJFB094871018...|4766|     678232446|   AANLGB21|861d45c9-84bc-49e...|    911|{Sawaynfort, {-9....|https://robohash....|{5462-6509-3871-9...|   1976-11-16|       1621352230241|bryan.hessel@emai...|{Proactive, Natio...|     Bryan| Polygender|1411|   Hessel|JHBziwIKTo| +351 1-376-202-8010|              916839095|{Debit card, Free...|e7cb5ed9-3fa7-417...|    911|       bryan.hessel|\n",
       "|    0895491202|ALKEN ASSET MANAG...|       1619454345320|GB26SBCK060642856...|8067|     614665132|ALEIGB22TSY|feaf2251-44b9-462...|   8189|{New Kylefurt, {1...|https://robohash....|{6771-8931-9121-2...|   1966-09-26|       1621352230241|sid.pollich@email...|{Organisation, Dy...|       Sid|Genderfluid|9381|  Pollich|SK0WeiMs2y|+86 1-370-764-611...|              664216405|{Debit card, Bron...|7ce234c4-f518-44f...|   8189|        sid.pollich|\n",
       "|    5359243730|ABN AMRO HOARE GO...|       1619454426543|GB33SIUH872338545...|3694|     012569225|   AAHVGB21|24abccd1-6943-43b...|   8189|{New Kylefurt, {1...|https://robohash....|{6771-8931-9121-2...|   1966-09-26|       1621352230241|sid.pollich@email...|{Organisation, Dy...|       Sid|Genderfluid|9381|  Pollich|SK0WeiMs2y|+86 1-370-764-611...|              664216405|{Debit card, Bron...|7ce234c4-f518-44f...|   8189|        sid.pollich|\n",
       "|    0026467981|ABN AMRO HOARE GO...|       1621424024870|GB13SUXA661714039...|4845|     322562695|BARBGB2LKIL|09a511d6-7dbe-4af...|   6292|{North Jayshire, ...|https://robohash....|{5350-3484-2320-6...|   1974-02-12|       1621352230241|tony.mcdermott@em...|{Technical savvy,...|      Tony|Genderfluid| 579|McDermott|UKVHNnYevM| +249 1-761-469-0510|              636747594|{Google Pay, Star...|ce975986-a741-456...|   6292|     tony.mcdermott|\n",
       "|    4964089789|ABN AMRO HOARE GO...|       1621352240037|GB59KYGX058124153...|   7|     117375848|UBKLGB2LBAK|0297c77e-7671-4d8...|   6292|{North Jayshire, ...|https://robohash....|{5350-3484-2320-6...|   1974-02-12|       1621352230241|tony.mcdermott@em...|{Technical savvy,...|      Tony|Genderfluid| 579|McDermott|UKVHNnYevM| +249 1-761-469-0510|              636747594|{Google Pay, Star...|ce975986-a741-456...|   6292|     tony.mcdermott|\n",
       "|    3738006865|ALKEN ASSET MANAG...|       1621352240037|GB58MPHX711973527...|7052|     233256715|BOFAGB4TCDO|ef5f108c-68bd-4e0...|   6325|{O'Reillymouth, {...|https://robohash....|{5128-7465-3936-3...|   1967-01-28|       1621352230241|duane.schaefer@em...|{Confidence, Gove...|     Duane|     Female|8096| Schaefer|R5pjJtHLKU|+91 (491) 908-440...|              679775403|{Visa checkout, P...|25669b19-3afb-450...|   6325|     duane.schaefer|\n",
       "+--------------+--------------------+--------------------+--------------------+----+--------------+-----------+--------------------+-------+--------------------+--------------------+--------------------+-------------+--------------------+--------------------+--------------------+----------+-----------+----+---------+----------+--------------------+-----------------------+--------------------+--------------------+-------+-------------------+\n",
       "only showing top 10 rows"
      ]
     },
     "execution_count": 54,
     "metadata": {},
     "output_type": "execute_result"
    }
   ],
   "source": [
    "df"
   ]
  },
  {
   "cell_type": "code",
   "execution_count": 55,
   "metadata": {},
   "outputs": [
    {
     "data": {
      "text/plain": [
       "4"
      ]
     },
     "execution_count": 55,
     "metadata": {},
     "output_type": "execute_result"
    }
   ],
   "source": [
    "df_bank_user.rdd.getNumPartitions()"
   ]
  },
  {
   "cell_type": "code",
   "execution_count": 56,
   "metadata": {
    "id": "1ZwovSVcN0IR"
   },
   "outputs": [],
   "source": [
    "(\n",
    "    df.select(cols).write.mode(\"overwrite\")\n",
    "        .format(\"parquet\")\n",
    "        .save(\"./data-processing-bank-user/\")\n",
    ")"
   ]
  },
  {
   "cell_type": "code",
   "execution_count": 57,
   "metadata": {},
   "outputs": [],
   "source": [
    "df = spark.read.format(\"parquet\").load(\"./data-processing-bank-user\")"
   ]
  },
  {
   "cell_type": "code",
   "execution_count": 58,
   "metadata": {},
   "outputs": [
    {
     "data": {
      "text/html": [
       "<table border='1'>\n",
       "<tr><th>username</th><th>first_name</th><th>last_name</th><th>gender</th><th>bank_name</th></tr>\n",
       "<tr><td>michel.gerhold</td><td>Michel</td><td>Gerhold</td><td>Bigender</td><td>SANTANDER UK PLC</td></tr>\n",
       "<tr><td>jed.bradtke</td><td>Jed</td><td>Bradtke</td><td>Male</td><td>PGMS (GLASGOW) LI...</td></tr>\n",
       "<tr><td>francesca.powlowski</td><td>Francesca</td><td>Powlowski</td><td>Male</td><td>ABC INTERNATIONAL...</td></tr>\n",
       "<tr><td>jame.beier</td><td>Jame</td><td>Beier</td><td>Bigender</td><td>ALKEN ASSET MANAG...</td></tr>\n",
       "<tr><td>bryan.hessel</td><td>Bryan</td><td>Hessel</td><td>Polygender</td><td>ABBEY LIFE</td></tr>\n",
       "<tr><td>sid.pollich</td><td>Sid</td><td>Pollich</td><td>Genderfluid</td><td>ALKEN ASSET MANAG...</td></tr>\n",
       "<tr><td>sid.pollich</td><td>Sid</td><td>Pollich</td><td>Genderfluid</td><td>ABN AMRO HOARE GO...</td></tr>\n",
       "<tr><td>tony.mcdermott</td><td>Tony</td><td>McDermott</td><td>Genderfluid</td><td>ABN AMRO HOARE GO...</td></tr>\n",
       "<tr><td>tony.mcdermott</td><td>Tony</td><td>McDermott</td><td>Genderfluid</td><td>ABN AMRO HOARE GO...</td></tr>\n",
       "<tr><td>duane.schaefer</td><td>Duane</td><td>Schaefer</td><td>Female</td><td>ALKEN ASSET MANAG...</td></tr>\n",
       "</table>\n",
       "only showing top 10 rows\n"
      ],
      "text/plain": [
       "+-------------------+----------+---------+-----------+--------------------+\n",
       "|           username|first_name|last_name|     gender|           bank_name|\n",
       "+-------------------+----------+---------+-----------+--------------------+\n",
       "|     michel.gerhold|    Michel|  Gerhold|   Bigender|    SANTANDER UK PLC|\n",
       "|        jed.bradtke|       Jed|  Bradtke|       Male|PGMS (GLASGOW) LI...|\n",
       "|francesca.powlowski| Francesca|Powlowski|       Male|ABC INTERNATIONAL...|\n",
       "|         jame.beier|      Jame|    Beier|   Bigender|ALKEN ASSET MANAG...|\n",
       "|       bryan.hessel|     Bryan|   Hessel| Polygender|          ABBEY LIFE|\n",
       "|        sid.pollich|       Sid|  Pollich|Genderfluid|ALKEN ASSET MANAG...|\n",
       "|        sid.pollich|       Sid|  Pollich|Genderfluid|ABN AMRO HOARE GO...|\n",
       "|     tony.mcdermott|      Tony|McDermott|Genderfluid|ABN AMRO HOARE GO...|\n",
       "|     tony.mcdermott|      Tony|McDermott|Genderfluid|ABN AMRO HOARE GO...|\n",
       "|     duane.schaefer|     Duane| Schaefer|     Female|ALKEN ASSET MANAG...|\n",
       "+-------------------+----------+---------+-----------+--------------------+\n",
       "only showing top 10 rows"
      ]
     },
     "execution_count": 58,
     "metadata": {},
     "output_type": "execute_result"
    }
   ],
   "source": [
    "df"
   ]
  }
 ],
 "metadata": {
  "colab": {
   "name": "A3Lab_PySpark.ipynb",
   "provenance": [],
   "toc_visible": true
  },
  "kernelspec": {
   "display_name": "Python 3.10.4 64-bit",
   "language": "python",
   "name": "python3"
  },
  "language_info": {
   "codemirror_mode": {
    "name": "ipython",
    "version": 3
   },
   "file_extension": ".py",
   "mimetype": "text/x-python",
   "name": "python",
   "nbconvert_exporter": "python",
   "pygments_lexer": "ipython3",
   "version": "3.10.4"
  },
  "vscode": {
   "interpreter": {
    "hash": "916dbcbb3f70747c44a77c7bcd40155683ae19c65e1c03b4aa3499c5328201f1"
   }
  }
 },
 "nbformat": 4,
 "nbformat_minor": 4
}
