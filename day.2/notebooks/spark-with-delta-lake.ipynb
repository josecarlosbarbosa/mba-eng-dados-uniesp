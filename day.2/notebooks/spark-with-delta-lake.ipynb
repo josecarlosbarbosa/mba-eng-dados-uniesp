{
 "cells": [
  {
   "cell_type": "markdown",
   "metadata": {},
   "source": [
    "<p align=\"center\">\n",
    "  <a href=\"\" rel=\"noopener\">\n",
    " <img width=500px height=100px src=\"https://docs.delta.io/latest/_static/delta-lake-logo.png\" alt=\"Project logo\"></a>\n",
    "</p>\n",
    "\n",
    "<h6 align=\"center\">Delta Lake é um projeto de código aberto que permite a construção de uma arquitetura Lakehouse. Fornecendo features como, transações ACID, manipulação de metadados escalonáveis e unificação do modo de realizar processamento de dados em lote e streaming sobre os data lakes existentes, como S3, ADLS, GCS e HDFS.</h6>\n",
    "\n",
    "<div align=\"center\">\n",
    "</div>\n",
    "\n",
    "<h6 align=\"center\">\n",
    "Delta Lake é uma camada de armazenamento que utiliza o formato Parquet como padrão e que fornece transações compatíveis com ACID e benefícios adicionais para Data Lakes. O Delta Lake pode ajudar a resolver diversos problemas alguns deles são:\n",
    "</h6>\n",
    "    \n",
    "- Dificuldade em anexar dados\n",
    "- Jobs extremamente custosos que falham durante a execução\n",
    "- Modificações de dados armazenados são difíceis\n",
    "- Operações em tempo real\n",
    "- É caro manter versões históricas de dados\n",
    "- Difícil de lidar com metadados grandes\n",
    "- Problemas de “muitos arquivos”\n",
    "- É difícil obter um ótimo desempenho\n",
    "- Problemas de qualidade de dados"
   ]
  },
  {
   "cell_type": "code",
   "execution_count": 1,
   "metadata": {},
   "outputs": [],
   "source": [
    "from pyspark.sql import SparkSession"
   ]
  },
  {
   "cell_type": "code",
   "execution_count": 2,
   "metadata": {},
   "outputs": [
    {
     "name": "stderr",
     "output_type": "stream",
     "text": [
      "22/09/24 06:32:40 WARN Utils: Your hostname, desktop-pro resolves to a loopback address: 127.0.1.1; using 172.29.28.57 instead (on interface eth0)\n",
      "22/09/24 06:32:40 WARN Utils: Set SPARK_LOCAL_IP if you need to bind to another address\n"
     ]
    },
    {
     "name": "stdout",
     "output_type": "stream",
     "text": [
      ":: loading settings :: url = jar:file:/home/carlosbarbosa/.local/lib/python3.10/site-packages/pyspark/jars/ivy-2.5.0.jar!/org/apache/ivy/core/settings/ivysettings.xml\n"
     ]
    },
    {
     "name": "stderr",
     "output_type": "stream",
     "text": [
      "Ivy Default Cache set to: /home/carlosbarbosa/.ivy2/cache\n",
      "The jars for the packages stored in: /home/carlosbarbosa/.ivy2/jars\n",
      "io.delta#delta-core_2.12 added as a dependency\n",
      ":: resolving dependencies :: org.apache.spark#spark-submit-parent-c1f6976c-da90-4ad1-8531-0d12a31fa53e;1.0\n",
      "\tconfs: [default]\n",
      "\tfound io.delta#delta-core_2.12;2.1.0 in central\n",
      "\tfound io.delta#delta-storage;2.1.0 in central\n",
      "\tfound org.antlr#antlr4-runtime;4.8 in central\n",
      "\tfound org.codehaus.jackson#jackson-core-asl;1.9.13 in central\n",
      ":: resolution report :: resolve 93ms :: artifacts dl 5ms\n",
      "\t:: modules in use:\n",
      "\tio.delta#delta-core_2.12;2.1.0 from central in [default]\n",
      "\tio.delta#delta-storage;2.1.0 from central in [default]\n",
      "\torg.antlr#antlr4-runtime;4.8 from central in [default]\n",
      "\torg.codehaus.jackson#jackson-core-asl;1.9.13 from central in [default]\n",
      "\t---------------------------------------------------------------------\n",
      "\t|                  |            modules            ||   artifacts   |\n",
      "\t|       conf       | number| search|dwnlded|evicted|| number|dwnlded|\n",
      "\t---------------------------------------------------------------------\n",
      "\t|      default     |   4   |   0   |   0   |   0   ||   4   |   0   |\n",
      "\t---------------------------------------------------------------------\n",
      ":: retrieving :: org.apache.spark#spark-submit-parent-c1f6976c-da90-4ad1-8531-0d12a31fa53e\n",
      "\tconfs: [default]\n",
      "\t0 artifacts copied, 4 already retrieved (0kB/3ms)\n",
      "22/09/24 06:32:41 WARN NativeCodeLoader: Unable to load native-hadoop library for your platform... using builtin-java classes where applicable\n",
      "Using Spark's default log4j profile: org/apache/spark/log4j-defaults.properties\n",
      "Setting default log level to \"WARN\".\n",
      "To adjust logging level use sc.setLogLevel(newLevel). For SparkR, use setLogLevel(newLevel).\n"
     ]
    }
   ],
   "source": [
    "spark = (\n",
    "    \n",
    "    SparkSession\n",
    "            .builder\n",
    "            .config('spark.jars.packages', 'io.delta:delta-core_2.12:2.1.0')\n",
    "            .config('spark.sql.extensions', 'io.delta.sql.DeltaSparkSessionExtension')\n",
    "            .config('spark.sql.catalog.spark_catalog', 'org.apache.spark.sql.delta.catalog.DeltaCatalog')\n",
    "            .getOrCreate()\n",
    "            \n",
    ")"
   ]
  },
  {
   "cell_type": "code",
   "execution_count": 3,
   "metadata": {},
   "outputs": [
    {
     "name": "stdout",
     "output_type": "stream",
     "text": [
      "+-------+-----------------------+\n",
      "|user_id|email                  |\n",
      "+-------+-----------------------+\n",
      "|1703   |daron.bailey@email.com |\n",
      "|3650   |jonah.barrows@email.com|\n",
      "|8809   |carla.hansen@email.com |\n",
      "|4606   |tomas.ledner@email.com |\n",
      "|1      |alyse.ortiz@email.com  |\n",
      "+-------+-----------------------+\n",
      "only showing top 5 rows\n",
      "\n"
     ]
    }
   ],
   "source": [
    "df_user = (\n",
    "    spark\n",
    "    .read\n",
    "    .format(\"json\")\n",
    "    .load(\"../datalake/landing-zone/user\")\n",
    "    .select(\"user_id\", \"email\")\n",
    ")\n",
    "\n",
    "df_user.show(n=5, truncate=False)"
   ]
  },
  {
   "cell_type": "code",
   "execution_count": 4,
   "metadata": {},
   "outputs": [
    {
     "name": "stderr",
     "output_type": "stream",
     "text": [
      "                                                                                \r"
     ]
    }
   ],
   "source": [
    "(\n",
    "    df_user\n",
    "    .write\n",
    "    .format(\"delta\")\n",
    "    .mode(\"overwrite\") # overwrite | append\n",
    "    .save(\"../datalake/bronze/user\")\n",
    ")"
   ]
  },
  {
   "cell_type": "code",
   "execution_count": 5,
   "metadata": {},
   "outputs": [],
   "source": [
    "from delta.tables import DeltaTable"
   ]
  },
  {
   "cell_type": "code",
   "execution_count": 6,
   "metadata": {},
   "outputs": [
    {
     "data": {
      "text/plain": [
       "<delta.tables.DeltaTable at 0x7fb08ff335b0>"
      ]
     },
     "execution_count": 6,
     "metadata": {},
     "output_type": "execute_result"
    }
   ],
   "source": [
    "deltaTable = DeltaTable.forPath(spark, \"../datalake/bronze/user\")\n",
    "deltaTable"
   ]
  },
  {
   "cell_type": "code",
   "execution_count": 7,
   "metadata": {},
   "outputs": [
    {
     "name": "stdout",
     "output_type": "stream",
     "text": [
      "-RECORD 0------------------------------------------------------------------------------------------------------------------------------------------------------------------------------------------------------------------------------------------------------------------------------------------------------------------------------\n",
      " version             | 6                                                                                                                                                                                                                                                                                                               \n",
      " timestamp           | 2022-09-24 06:32:48.958                                                                                                                                                                                                                                                                                         \n",
      " userId              | null                                                                                                                                                                                                                                                                                                            \n",
      " userName            | null                                                                                                                                                                                                                                                                                                            \n",
      " operation           | WRITE                                                                                                                                                                                                                                                                                                           \n",
      " operationParameters | {mode -> Overwrite, partitionBy -> []}                                                                                                                                                                                                                                                                          \n",
      " job                 | null                                                                                                                                                                                                                                                                                                            \n",
      " notebook            | null                                                                                                                                                                                                                                                                                                            \n",
      " clusterId           | null                                                                                                                                                                                                                                                                                                            \n",
      " readVersion         | 5                                                                                                                                                                                                                                                                                                               \n",
      " isolationLevel      | Serializable                                                                                                                                                                                                                                                                                                    \n",
      " isBlindAppend       | false                                                                                                                                                                                                                                                                                                           \n",
      " operationMetrics    | {numFiles -> 3, numOutputRows -> 600, numOutputBytes -> 14132}                                                                                                                                                                                                                                                  \n",
      " userMetadata        | null                                                                                                                                                                                                                                                                                                            \n",
      " engineInfo          | Apache-Spark/3.2.1 Delta-Lake/2.1.0                                                                                                                                                                                                                                                                             \n",
      "-RECORD 1------------------------------------------------------------------------------------------------------------------------------------------------------------------------------------------------------------------------------------------------------------------------------------------------------------------------------\n",
      " version             | 5                                                                                                                                                                                                                                                                                                               \n",
      " timestamp           | 2022-09-24 06:30:37.715                                                                                                                                                                                                                                                                                         \n",
      " userId              | null                                                                                                                                                                                                                                                                                                            \n",
      " userName            | null                                                                                                                                                                                                                                                                                                            \n",
      " operation           | WRITE                                                                                                                                                                                                                                                                                                           \n",
      " operationParameters | {mode -> Overwrite, partitionBy -> []}                                                                                                                                                                                                                                                                          \n",
      " job                 | null                                                                                                                                                                                                                                                                                                            \n",
      " notebook            | null                                                                                                                                                                                                                                                                                                            \n",
      " clusterId           | null                                                                                                                                                                                                                                                                                                            \n",
      " readVersion         | 4                                                                                                                                                                                                                                                                                                               \n",
      " isolationLevel      | Serializable                                                                                                                                                                                                                                                                                                    \n",
      " isBlindAppend       | false                                                                                                                                                                                                                                                                                                           \n",
      " operationMetrics    | {numFiles -> 3, numOutputRows -> 600, numOutputBytes -> 14132}                                                                                                                                                                                                                                                  \n",
      " userMetadata        | null                                                                                                                                                                                                                                                                                                            \n",
      " engineInfo          | Apache-Spark/3.2.1 Delta-Lake/2.1.0                                                                                                                                                                                                                                                                             \n",
      "-RECORD 2------------------------------------------------------------------------------------------------------------------------------------------------------------------------------------------------------------------------------------------------------------------------------------------------------------------------------\n",
      " version             | 4                                                                                                                                                                                                                                                                                                               \n",
      " timestamp           | 2022-09-24 06:29:08.533                                                                                                                                                                                                                                                                                         \n",
      " userId              | null                                                                                                                                                                                                                                                                                                            \n",
      " userName            | null                                                                                                                                                                                                                                                                                                            \n",
      " operation           | WRITE                                                                                                                                                                                                                                                                                                           \n",
      " operationParameters | {mode -> Overwrite, partitionBy -> []}                                                                                                                                                                                                                                                                          \n",
      " job                 | null                                                                                                                                                                                                                                                                                                            \n",
      " notebook            | null                                                                                                                                                                                                                                                                                                            \n",
      " clusterId           | null                                                                                                                                                                                                                                                                                                            \n",
      " readVersion         | 3                                                                                                                                                                                                                                                                                                               \n",
      " isolationLevel      | Serializable                                                                                                                                                                                                                                                                                                    \n",
      " isBlindAppend       | false                                                                                                                                                                                                                                                                                                           \n",
      " operationMetrics    | {numFiles -> 10, numOutputRows -> 600, numOutputBytes -> 21067}                                                                                                                                                                                                                                                 \n",
      " userMetadata        | null                                                                                                                                                                                                                                                                                                            \n",
      " engineInfo          | Apache-Spark/3.2.1 Delta-Lake/2.1.0                                                                                                                                                                                                                                                                             \n",
      "-RECORD 3------------------------------------------------------------------------------------------------------------------------------------------------------------------------------------------------------------------------------------------------------------------------------------------------------------------------------\n",
      " version             | 3                                                                                                                                                                                                                                                                                                               \n",
      " timestamp           | 2022-09-24 06:28:20.691                                                                                                                                                                                                                                                                                         \n",
      " userId              | null                                                                                                                                                                                                                                                                                                            \n",
      " userName            | null                                                                                                                                                                                                                                                                                                            \n",
      " operation           | WRITE                                                                                                                                                                                                                                                                                                           \n",
      " operationParameters | {mode -> Overwrite, partitionBy -> []}                                                                                                                                                                                                                                                                          \n",
      " job                 | null                                                                                                                                                                                                                                                                                                            \n",
      " notebook            | null                                                                                                                                                                                                                                                                                                            \n",
      " clusterId           | null                                                                                                                                                                                                                                                                                                            \n",
      " readVersion         | 2                                                                                                                                                                                                                                                                                                               \n",
      " isolationLevel      | Serializable                                                                                                                                                                                                                                                                                                    \n",
      " isBlindAppend       | false                                                                                                                                                                                                                                                                                                           \n",
      " operationMetrics    | {numFiles -> 3, numOutputRows -> 600, numOutputBytes -> 14132}                                                                                                                                                                                                                                                  \n",
      " userMetadata        | null                                                                                                                                                                                                                                                                                                            \n",
      " engineInfo          | Apache-Spark/3.2.1 Delta-Lake/2.1.0                                                                                                                                                                                                                                                                             \n",
      "-RECORD 4------------------------------------------------------------------------------------------------------------------------------------------------------------------------------------------------------------------------------------------------------------------------------------------------------------------------------\n",
      " version             | 2                                                                                                                                                                                                                                                                                                               \n",
      " timestamp           | 2022-09-24 06:26:26.777                                                                                                                                                                                                                                                                                         \n",
      " userId              | null                                                                                                                                                                                                                                                                                                            \n",
      " userName            | null                                                                                                                                                                                                                                                                                                            \n",
      " operation           | MERGE                                                                                                                                                                                                                                                                                                           \n",
      " operationParameters | {predicate -> (old.user_id = CAST(new.user_id AS BIGINT)), matchedPredicates -> [{\"predicate\":\"(old.user_id = CAST(new.user_id AS BIGINT))\",\"actionType\":\"update\"}], notMatchedPredicates -> [{\"actionType\":\"insert\"}]}                                                                                         \n",
      " job                 | null                                                                                                                                                                                                                                                                                                            \n",
      " notebook            | null                                                                                                                                                                                                                                                                                                            \n",
      " clusterId           | null                                                                                                                                                                                                                                                                                                            \n",
      " readVersion         | 1                                                                                                                                                                                                                                                                                                               \n",
      " isolationLevel      | Serializable                                                                                                                                                                                                                                                                                                    \n",
      " isBlindAppend       | false                                                                                                                                                                                                                                                                                                           \n",
      " operationMetrics    | {numTargetRowsCopied -> 198, numTargetRowsDeleted -> 0, numTargetFilesAdded -> 1, executionTimeMs -> 895, numTargetRowsInserted -> 0, scanTimeMs -> 536, numTargetRowsUpdated -> 2, numOutputRows -> 200, numTargetChangeFilesAdded -> 0, numSourceRows -> 2, numTargetFilesRemoved -> 1, rewriteTimeMs -> 356} \n",
      " userMetadata        | null                                                                                                                                                                                                                                                                                                            \n",
      " engineInfo          | Apache-Spark/3.2.1 Delta-Lake/2.1.0                                                                                                                                                                                                                                                                             \n",
      "-RECORD 5------------------------------------------------------------------------------------------------------------------------------------------------------------------------------------------------------------------------------------------------------------------------------------------------------------------------------\n",
      " version             | 1                                                                                                                                                                                                                                                                                                               \n",
      " timestamp           | 2022-09-24 06:24:28.324                                                                                                                                                                                                                                                                                         \n",
      " userId              | null                                                                                                                                                                                                                                                                                                            \n",
      " userName            | null                                                                                                                                                                                                                                                                                                            \n",
      " operation           | UPDATE                                                                                                                                                                                                                                                                                                          \n",
      " operationParameters | {predicate -> (email#716 = marcos.collier@email.com)}                                                                                                                                                                                                                                                           \n",
      " job                 | null                                                                                                                                                                                                                                                                                                            \n",
      " notebook            | null                                                                                                                                                                                                                                                                                                            \n",
      " clusterId           | null                                                                                                                                                                                                                                                                                                            \n",
      " readVersion         | 0                                                                                                                                                                                                                                                                                                               \n",
      " isolationLevel      | Serializable                                                                                                                                                                                                                                                                                                    \n",
      " isBlindAppend       | false                                                                                                                                                                                                                                                                                                           \n",
      " operationMetrics    | {numRemovedFiles -> 1, numCopiedRows -> 199, numAddedChangeFiles -> 0, executionTimeMs -> 560, scanTimeMs -> 465, numAddedFiles -> 1, numUpdatedRows -> 1, rewriteTimeMs -> 94}                                                                                                                                 \n",
      " userMetadata        | null                                                                                                                                                                                                                                                                                                            \n",
      " engineInfo          | Apache-Spark/3.2.1 Delta-Lake/2.1.0                                                                                                                                                                                                                                                                             \n",
      "-RECORD 6------------------------------------------------------------------------------------------------------------------------------------------------------------------------------------------------------------------------------------------------------------------------------------------------------------------------------\n",
      " version             | 0                                                                                                                                                                                                                                                                                                               \n",
      " timestamp           | 2022-09-24 06:20:20.756                                                                                                                                                                                                                                                                                         \n",
      " userId              | null                                                                                                                                                                                                                                                                                                            \n",
      " userName            | null                                                                                                                                                                                                                                                                                                            \n",
      " operation           | WRITE                                                                                                                                                                                                                                                                                                           \n",
      " operationParameters | {mode -> Overwrite, partitionBy -> []}                                                                                                                                                                                                                                                                          \n",
      " job                 | null                                                                                                                                                                                                                                                                                                            \n",
      " notebook            | null                                                                                                                                                                                                                                                                                                            \n",
      " clusterId           | null                                                                                                                                                                                                                                                                                                            \n",
      " readVersion         | null                                                                                                                                                                                                                                                                                                            \n",
      " isolationLevel      | Serializable                                                                                                                                                                                                                                                                                                    \n",
      " isBlindAppend       | false                                                                                                                                                                                                                                                                                                           \n",
      " operationMetrics    | {numFiles -> 3, numOutputRows -> 600, numOutputBytes -> 14132}                                                                                                                                                                                                                                                  \n",
      " userMetadata        | null                                                                                                                                                                                                                                                                                                            \n",
      " engineInfo          | Apache-Spark/3.2.1 Delta-Lake/2.1.0                                                                                                                                                                                                                                                                             \n",
      "\n"
     ]
    }
   ],
   "source": [
    "deltaTable.history().show(vertical=True, truncate=False)"
   ]
  },
  {
   "cell_type": "code",
   "execution_count": 8,
   "metadata": {},
   "outputs": [
    {
     "name": "stdout",
     "output_type": "stream",
     "text": [
      "BEFORE UPDATE\n",
      "+-------+------------------------+\n",
      "|user_id|email                   |\n",
      "+-------+------------------------+\n",
      "|3395   |marcos.collier@email.com|\n",
      "+-------+------------------------+\n",
      "\n",
      "AFTER UPDATE\n",
      "+-------+------------------------+\n",
      "|user_id|email                   |\n",
      "+-------+------------------------+\n",
      "|3395   |michaeljackson@gmail.com|\n",
      "+-------+------------------------+\n",
      "\n"
     ]
    }
   ],
   "source": [
    "print(\"BEFORE UPDATE\")\n",
    "history = deltaTable.toDF()\n",
    "history.where(\"email == 'marcos.collier@email.com'\").show(truncate=False)\n",
    "\n",
    "print(\"AFTER UPDATE\")\n",
    "deltaTable.update(\n",
    "    condition = \"email = 'marcos.collier@email.com'\",\n",
    "    set = { \"email\": \"'michaeljackson@gmail.com'\" } \n",
    ")\n",
    "\n",
    "history = deltaTable.toDF()\n",
    "history.where(\"email == 'michaeljackson@gmail.com'\").show(truncate=False)"
   ]
  },
  {
   "cell_type": "code",
   "execution_count": 9,
   "metadata": {},
   "outputs": [
    {
     "name": "stdout",
     "output_type": "stream",
     "text": [
      "+-------+-----------------------+\n",
      "|user_id|email                  |\n",
      "+-------+-----------------------+\n",
      "|1703   |daron.bailey@email.com |\n",
      "|3650   |jonah.barrows@email.com|\n",
      "+-------+-----------------------+\n",
      "\n"
     ]
    }
   ],
   "source": [
    "df_old = (\n",
    "    spark.read.format(\"delta\").load(\"../datalake/bronze/user\")\n",
    ")\n",
    "\n",
    "df_old.where(\"user_id in (1703, 3650)\").show(truncate=False)"
   ]
  },
  {
   "cell_type": "code",
   "execution_count": 10,
   "metadata": {},
   "outputs": [
    {
     "name": "stdout",
     "output_type": "stream",
     "text": [
      "+-------+--------------------+\n",
      "|user_id|               email|\n",
      "+-------+--------------------+\n",
      "|   1703|harrypotter@gmail...|\n",
      "|   3650|  brucelee@gmail.com|\n",
      "+-------+--------------------+\n",
      "\n"
     ]
    }
   ],
   "source": [
    "items = [(\"1703\",\"harrypotter@gmail.com\"), (\"3650\", \"brucelee@gmail.com\")]\n",
    "cols = [\"user_id\", \"email\"]\n",
    "df_new = spark.createDataFrame(items, cols)\n",
    "df_new.show()"
   ]
  },
  {
   "cell_type": "code",
   "execution_count": 11,
   "metadata": {},
   "outputs": [],
   "source": [
    "(\n",
    "    deltaTable.alias(\"old\")\n",
    "    .merge(\n",
    "        df_new.alias(\"new\"),\"old.user_id = new.user_id\"\n",
    "    )\n",
    "    .whenMatchedUpdateAll(\n",
    "        condition = \"old.user_id = new.user_id\"\n",
    "    )\n",
    "    .whenNotMatchedInsertAll()\n",
    "    .execute()\n",
    ")"
   ]
  },
  {
   "cell_type": "code",
   "execution_count": 12,
   "metadata": {},
   "outputs": [
    {
     "name": "stdout",
     "output_type": "stream",
     "text": [
      "+-------+---------------------+\n",
      "|user_id|email                |\n",
      "+-------+---------------------+\n",
      "|1703   |harrypotter@gmail.com|\n",
      "|3650   |brucelee@gmail.com   |\n",
      "+-------+---------------------+\n",
      "\n",
      "AMOUNT: 600\n"
     ]
    }
   ],
   "source": [
    "final_delta = deltaTable.toDF()\n",
    "final_delta.where(\"user_id in (1703, 3650)\").show(truncate=False)\n",
    "\n",
    "print(f\"AMOUNT: {final_delta.count()}\")"
   ]
  },
  {
   "cell_type": "code",
   "execution_count": 13,
   "metadata": {},
   "outputs": [
    {
     "name": "stdout",
     "output_type": "stream",
     "text": [
      "-RECORD 0------------------------------------------------------------------------------------------------------------------------------------------------------------------------------------------------------------------------------------------------------------------------------------------------------------------------------\n",
      " version             | 8                                                                                                                                                                                                                                                                                                               \n",
      " timestamp           | 2022-09-24 06:32:54.008                                                                                                                                                                                                                                                                                         \n",
      " userId              | null                                                                                                                                                                                                                                                                                                            \n",
      " userName            | null                                                                                                                                                                                                                                                                                                            \n",
      " operation           | MERGE                                                                                                                                                                                                                                                                                                           \n",
      " operationParameters | {predicate -> (old.user_id = CAST(new.user_id AS BIGINT)), matchedPredicates -> [{\"predicate\":\"(old.user_id = CAST(new.user_id AS BIGINT))\",\"actionType\":\"update\"}], notMatchedPredicates -> [{\"actionType\":\"insert\"}]}                                                                                         \n",
      " job                 | null                                                                                                                                                                                                                                                                                                            \n",
      " notebook            | null                                                                                                                                                                                                                                                                                                            \n",
      " clusterId           | null                                                                                                                                                                                                                                                                                                            \n",
      " readVersion         | 7                                                                                                                                                                                                                                                                                                               \n",
      " isolationLevel      | Serializable                                                                                                                                                                                                                                                                                                    \n",
      " isBlindAppend       | false                                                                                                                                                                                                                                                                                                           \n",
      " operationMetrics    | {numTargetRowsCopied -> 198, numTargetRowsDeleted -> 0, numTargetFilesAdded -> 1, executionTimeMs -> 846, numTargetRowsInserted -> 0, scanTimeMs -> 516, numTargetRowsUpdated -> 2, numOutputRows -> 200, numTargetChangeFilesAdded -> 0, numSourceRows -> 2, numTargetFilesRemoved -> 1, rewriteTimeMs -> 327} \n",
      " userMetadata        | null                                                                                                                                                                                                                                                                                                            \n",
      " engineInfo          | Apache-Spark/3.2.1 Delta-Lake/2.1.0                                                                                                                                                                                                                                                                             \n",
      "-RECORD 1------------------------------------------------------------------------------------------------------------------------------------------------------------------------------------------------------------------------------------------------------------------------------------------------------------------------------\n",
      " version             | 7                                                                                                                                                                                                                                                                                                               \n",
      " timestamp           | 2022-09-24 06:32:51.288                                                                                                                                                                                                                                                                                         \n",
      " userId              | null                                                                                                                                                                                                                                                                                                            \n",
      " userName            | null                                                                                                                                                                                                                                                                                                            \n",
      " operation           | UPDATE                                                                                                                                                                                                                                                                                                          \n",
      " operationParameters | {predicate -> (email#1157 = marcos.collier@email.com)}                                                                                                                                                                                                                                                          \n",
      " job                 | null                                                                                                                                                                                                                                                                                                            \n",
      " notebook            | null                                                                                                                                                                                                                                                                                                            \n",
      " clusterId           | null                                                                                                                                                                                                                                                                                                            \n",
      " readVersion         | 6                                                                                                                                                                                                                                                                                                               \n",
      " isolationLevel      | Serializable                                                                                                                                                                                                                                                                                                    \n",
      " isBlindAppend       | false                                                                                                                                                                                                                                                                                                           \n",
      " operationMetrics    | {numRemovedFiles -> 1, numCopiedRows -> 199, numAddedChangeFiles -> 0, executionTimeMs -> 591, scanTimeMs -> 496, numAddedFiles -> 1, numUpdatedRows -> 1, rewriteTimeMs -> 94}                                                                                                                                 \n",
      " userMetadata        | null                                                                                                                                                                                                                                                                                                            \n",
      " engineInfo          | Apache-Spark/3.2.1 Delta-Lake/2.1.0                                                                                                                                                                                                                                                                             \n",
      "-RECORD 2------------------------------------------------------------------------------------------------------------------------------------------------------------------------------------------------------------------------------------------------------------------------------------------------------------------------------\n",
      " version             | 6                                                                                                                                                                                                                                                                                                               \n",
      " timestamp           | 2022-09-24 06:32:48.958                                                                                                                                                                                                                                                                                         \n",
      " userId              | null                                                                                                                                                                                                                                                                                                            \n",
      " userName            | null                                                                                                                                                                                                                                                                                                            \n",
      " operation           | WRITE                                                                                                                                                                                                                                                                                                           \n",
      " operationParameters | {mode -> Overwrite, partitionBy -> []}                                                                                                                                                                                                                                                                          \n",
      " job                 | null                                                                                                                                                                                                                                                                                                            \n",
      " notebook            | null                                                                                                                                                                                                                                                                                                            \n",
      " clusterId           | null                                                                                                                                                                                                                                                                                                            \n",
      " readVersion         | 5                                                                                                                                                                                                                                                                                                               \n",
      " isolationLevel      | Serializable                                                                                                                                                                                                                                                                                                    \n",
      " isBlindAppend       | false                                                                                                                                                                                                                                                                                                           \n",
      " operationMetrics    | {numFiles -> 3, numOutputRows -> 600, numOutputBytes -> 14132}                                                                                                                                                                                                                                                  \n",
      " userMetadata        | null                                                                                                                                                                                                                                                                                                            \n",
      " engineInfo          | Apache-Spark/3.2.1 Delta-Lake/2.1.0                                                                                                                                                                                                                                                                             \n",
      "-RECORD 3------------------------------------------------------------------------------------------------------------------------------------------------------------------------------------------------------------------------------------------------------------------------------------------------------------------------------\n",
      " version             | 5                                                                                                                                                                                                                                                                                                               \n",
      " timestamp           | 2022-09-24 06:30:37.715                                                                                                                                                                                                                                                                                         \n",
      " userId              | null                                                                                                                                                                                                                                                                                                            \n",
      " userName            | null                                                                                                                                                                                                                                                                                                            \n",
      " operation           | WRITE                                                                                                                                                                                                                                                                                                           \n",
      " operationParameters | {mode -> Overwrite, partitionBy -> []}                                                                                                                                                                                                                                                                          \n",
      " job                 | null                                                                                                                                                                                                                                                                                                            \n",
      " notebook            | null                                                                                                                                                                                                                                                                                                            \n",
      " clusterId           | null                                                                                                                                                                                                                                                                                                            \n",
      " readVersion         | 4                                                                                                                                                                                                                                                                                                               \n",
      " isolationLevel      | Serializable                                                                                                                                                                                                                                                                                                    \n",
      " isBlindAppend       | false                                                                                                                                                                                                                                                                                                           \n",
      " operationMetrics    | {numFiles -> 3, numOutputRows -> 600, numOutputBytes -> 14132}                                                                                                                                                                                                                                                  \n",
      " userMetadata        | null                                                                                                                                                                                                                                                                                                            \n",
      " engineInfo          | Apache-Spark/3.2.1 Delta-Lake/2.1.0                                                                                                                                                                                                                                                                             \n",
      "-RECORD 4------------------------------------------------------------------------------------------------------------------------------------------------------------------------------------------------------------------------------------------------------------------------------------------------------------------------------\n",
      " version             | 4                                                                                                                                                                                                                                                                                                               \n",
      " timestamp           | 2022-09-24 06:29:08.533                                                                                                                                                                                                                                                                                         \n",
      " userId              | null                                                                                                                                                                                                                                                                                                            \n",
      " userName            | null                                                                                                                                                                                                                                                                                                            \n",
      " operation           | WRITE                                                                                                                                                                                                                                                                                                           \n",
      " operationParameters | {mode -> Overwrite, partitionBy -> []}                                                                                                                                                                                                                                                                          \n",
      " job                 | null                                                                                                                                                                                                                                                                                                            \n",
      " notebook            | null                                                                                                                                                                                                                                                                                                            \n",
      " clusterId           | null                                                                                                                                                                                                                                                                                                            \n",
      " readVersion         | 3                                                                                                                                                                                                                                                                                                               \n",
      " isolationLevel      | Serializable                                                                                                                                                                                                                                                                                                    \n",
      " isBlindAppend       | false                                                                                                                                                                                                                                                                                                           \n",
      " operationMetrics    | {numFiles -> 10, numOutputRows -> 600, numOutputBytes -> 21067}                                                                                                                                                                                                                                                 \n",
      " userMetadata        | null                                                                                                                                                                                                                                                                                                            \n",
      " engineInfo          | Apache-Spark/3.2.1 Delta-Lake/2.1.0                                                                                                                                                                                                                                                                             \n",
      "-RECORD 5------------------------------------------------------------------------------------------------------------------------------------------------------------------------------------------------------------------------------------------------------------------------------------------------------------------------------\n",
      " version             | 3                                                                                                                                                                                                                                                                                                               \n",
      " timestamp           | 2022-09-24 06:28:20.691                                                                                                                                                                                                                                                                                         \n",
      " userId              | null                                                                                                                                                                                                                                                                                                            \n",
      " userName            | null                                                                                                                                                                                                                                                                                                            \n",
      " operation           | WRITE                                                                                                                                                                                                                                                                                                           \n",
      " operationParameters | {mode -> Overwrite, partitionBy -> []}                                                                                                                                                                                                                                                                          \n",
      " job                 | null                                                                                                                                                                                                                                                                                                            \n",
      " notebook            | null                                                                                                                                                                                                                                                                                                            \n",
      " clusterId           | null                                                                                                                                                                                                                                                                                                            \n",
      " readVersion         | 2                                                                                                                                                                                                                                                                                                               \n",
      " isolationLevel      | Serializable                                                                                                                                                                                                                                                                                                    \n",
      " isBlindAppend       | false                                                                                                                                                                                                                                                                                                           \n",
      " operationMetrics    | {numFiles -> 3, numOutputRows -> 600, numOutputBytes -> 14132}                                                                                                                                                                                                                                                  \n",
      " userMetadata        | null                                                                                                                                                                                                                                                                                                            \n",
      " engineInfo          | Apache-Spark/3.2.1 Delta-Lake/2.1.0                                                                                                                                                                                                                                                                             \n",
      "-RECORD 6------------------------------------------------------------------------------------------------------------------------------------------------------------------------------------------------------------------------------------------------------------------------------------------------------------------------------\n",
      " version             | 2                                                                                                                                                                                                                                                                                                               \n",
      " timestamp           | 2022-09-24 06:26:26.777                                                                                                                                                                                                                                                                                         \n",
      " userId              | null                                                                                                                                                                                                                                                                                                            \n",
      " userName            | null                                                                                                                                                                                                                                                                                                            \n",
      " operation           | MERGE                                                                                                                                                                                                                                                                                                           \n",
      " operationParameters | {predicate -> (old.user_id = CAST(new.user_id AS BIGINT)), matchedPredicates -> [{\"predicate\":\"(old.user_id = CAST(new.user_id AS BIGINT))\",\"actionType\":\"update\"}], notMatchedPredicates -> [{\"actionType\":\"insert\"}]}                                                                                         \n",
      " job                 | null                                                                                                                                                                                                                                                                                                            \n",
      " notebook            | null                                                                                                                                                                                                                                                                                                            \n",
      " clusterId           | null                                                                                                                                                                                                                                                                                                            \n",
      " readVersion         | 1                                                                                                                                                                                                                                                                                                               \n",
      " isolationLevel      | Serializable                                                                                                                                                                                                                                                                                                    \n",
      " isBlindAppend       | false                                                                                                                                                                                                                                                                                                           \n",
      " operationMetrics    | {numTargetRowsCopied -> 198, numTargetRowsDeleted -> 0, numTargetFilesAdded -> 1, executionTimeMs -> 895, numTargetRowsInserted -> 0, scanTimeMs -> 536, numTargetRowsUpdated -> 2, numOutputRows -> 200, numTargetChangeFilesAdded -> 0, numSourceRows -> 2, numTargetFilesRemoved -> 1, rewriteTimeMs -> 356} \n",
      " userMetadata        | null                                                                                                                                                                                                                                                                                                            \n",
      " engineInfo          | Apache-Spark/3.2.1 Delta-Lake/2.1.0                                                                                                                                                                                                                                                                             \n",
      "-RECORD 7------------------------------------------------------------------------------------------------------------------------------------------------------------------------------------------------------------------------------------------------------------------------------------------------------------------------------\n",
      " version             | 1                                                                                                                                                                                                                                                                                                               \n",
      " timestamp           | 2022-09-24 06:24:28.324                                                                                                                                                                                                                                                                                         \n",
      " userId              | null                                                                                                                                                                                                                                                                                                            \n",
      " userName            | null                                                                                                                                                                                                                                                                                                            \n",
      " operation           | UPDATE                                                                                                                                                                                                                                                                                                          \n",
      " operationParameters | {predicate -> (email#716 = marcos.collier@email.com)}                                                                                                                                                                                                                                                           \n",
      " job                 | null                                                                                                                                                                                                                                                                                                            \n",
      " notebook            | null                                                                                                                                                                                                                                                                                                            \n",
      " clusterId           | null                                                                                                                                                                                                                                                                                                            \n",
      " readVersion         | 0                                                                                                                                                                                                                                                                                                               \n",
      " isolationLevel      | Serializable                                                                                                                                                                                                                                                                                                    \n",
      " isBlindAppend       | false                                                                                                                                                                                                                                                                                                           \n",
      " operationMetrics    | {numRemovedFiles -> 1, numCopiedRows -> 199, numAddedChangeFiles -> 0, executionTimeMs -> 560, scanTimeMs -> 465, numAddedFiles -> 1, numUpdatedRows -> 1, rewriteTimeMs -> 94}                                                                                                                                 \n",
      " userMetadata        | null                                                                                                                                                                                                                                                                                                            \n",
      " engineInfo          | Apache-Spark/3.2.1 Delta-Lake/2.1.0                                                                                                                                                                                                                                                                             \n",
      "-RECORD 8------------------------------------------------------------------------------------------------------------------------------------------------------------------------------------------------------------------------------------------------------------------------------------------------------------------------------\n",
      " version             | 0                                                                                                                                                                                                                                                                                                               \n",
      " timestamp           | 2022-09-24 06:20:20.756                                                                                                                                                                                                                                                                                         \n",
      " userId              | null                                                                                                                                                                                                                                                                                                            \n",
      " userName            | null                                                                                                                                                                                                                                                                                                            \n",
      " operation           | WRITE                                                                                                                                                                                                                                                                                                           \n",
      " operationParameters | {mode -> Overwrite, partitionBy -> []}                                                                                                                                                                                                                                                                          \n",
      " job                 | null                                                                                                                                                                                                                                                                                                            \n",
      " notebook            | null                                                                                                                                                                                                                                                                                                            \n",
      " clusterId           | null                                                                                                                                                                                                                                                                                                            \n",
      " readVersion         | null                                                                                                                                                                                                                                                                                                            \n",
      " isolationLevel      | Serializable                                                                                                                                                                                                                                                                                                    \n",
      " isBlindAppend       | false                                                                                                                                                                                                                                                                                                           \n",
      " operationMetrics    | {numFiles -> 3, numOutputRows -> 600, numOutputBytes -> 14132}                                                                                                                                                                                                                                                  \n",
      " userMetadata        | null                                                                                                                                                                                                                                                                                                            \n",
      " engineInfo          | Apache-Spark/3.2.1 Delta-Lake/2.1.0                                                                                                                                                                                                                                                                             \n",
      "\n"
     ]
    }
   ],
   "source": [
    "history_delta = deltaTable.history()\n",
    "history_delta.show(vertical=True, n=10, truncate=False)"
   ]
  },
  {
   "cell_type": "code",
   "execution_count": 14,
   "metadata": {},
   "outputs": [
    {
     "name": "stdout",
     "output_type": "stream",
     "text": [
      "+-------+---------+-----------------------+\n",
      "|version|operation|timestamp              |\n",
      "+-------+---------+-----------------------+\n",
      "|6      |WRITE    |2022-09-24 06:32:48.958|\n",
      "|5      |WRITE    |2022-09-24 06:30:37.715|\n",
      "|4      |WRITE    |2022-09-24 06:29:08.533|\n",
      "|3      |WRITE    |2022-09-24 06:28:20.691|\n",
      "|0      |WRITE    |2022-09-24 06:20:20.756|\n",
      "+-------+---------+-----------------------+\n",
      "\n"
     ]
    }
   ],
   "source": [
    "(\n",
    "    history_delta\n",
    "    .select(\"version\",\"operation\",\"timestamp\")\n",
    "    .where(\"operation == 'WRITE'\")\n",
    "    .show(truncate=False)\n",
    ")"
   ]
  },
  {
   "cell_type": "code",
   "execution_count": 15,
   "metadata": {},
   "outputs": [
    {
     "name": "stdout",
     "output_type": "stream",
     "text": [
      "+-------+-----------------------+\n",
      "|user_id|email                  |\n",
      "+-------+-----------------------+\n",
      "|1703   |daron.bailey@email.com |\n",
      "|3650   |jonah.barrows@email.com|\n",
      "+-------+-----------------------+\n",
      "\n"
     ]
    }
   ],
   "source": [
    "time_travel_version_0 = (\n",
    "    spark\n",
    "    .read\n",
    "    .format(\"delta\")\n",
    "    .option(\"versionAsOf\", \"0\")\n",
    "    .load(\"../datalake/bronze/user\")\n",
    ")\n",
    "\n",
    "(\n",
    "    time_travel_version_0\n",
    "    .where(\"user_id in (1703, 3650)\")\n",
    "    .show(truncate=False)\n",
    ")"
   ]
  },
  {
   "cell_type": "code",
   "execution_count": 16,
   "metadata": {},
   "outputs": [
    {
     "name": "stdout",
     "output_type": "stream",
     "text": [
      "+-------+---------+-----------------------+\n",
      "|version|operation|timestamp              |\n",
      "+-------+---------+-----------------------+\n",
      "|8      |MERGE    |2022-09-24 06:32:54.008|\n",
      "|2      |MERGE    |2022-09-24 06:26:26.777|\n",
      "+-------+---------+-----------------------+\n",
      "\n"
     ]
    }
   ],
   "source": [
    "(\n",
    "    history_delta\n",
    "    .select(\"version\",\"operation\",\"timestamp\")\n",
    "    .where(\"operation == 'MERGE'\")\n",
    "    .show(truncate=False)\n",
    ")"
   ]
  },
  {
   "cell_type": "code",
   "execution_count": 17,
   "metadata": {},
   "outputs": [
    {
     "name": "stdout",
     "output_type": "stream",
     "text": [
      "+-------+---------------------+\n",
      "|user_id|email                |\n",
      "+-------+---------------------+\n",
      "|1703   |harrypotter@gmail.com|\n",
      "|3650   |brucelee@gmail.com   |\n",
      "+-------+---------------------+\n",
      "\n"
     ]
    }
   ],
   "source": [
    "time_travel_timestamp = (\n",
    "    spark\n",
    "    .read\n",
    "    .format(\"delta\")\n",
    "    .option(\"timestampAsOf\", \"2022-09-24 06:26:26.777\") # register timestamp\n",
    "    .load(\"../datalake/bronze/user\")\n",
    ")\n",
    "\n",
    "time_travel_timestamp.where(\"user_id in (1703, 3650)\").show(truncate=False)"
   ]
  },
  {
   "cell_type": "code",
   "execution_count": 18,
   "metadata": {},
   "outputs": [
    {
     "name": "stdout",
     "output_type": "stream",
     "text": [
      "+-------+--------------------+\n",
      "|user_id|               email|\n",
      "+-------+--------------------+\n",
      "|   3650|  brucelee@gmail.com|\n",
      "|   1703|harrypotter@gmail...|\n",
      "|   3395|     a3lab@gmail.com|\n",
      "+-------+--------------------+\n",
      "\n"
     ]
    }
   ],
   "source": [
    "time_travel_timestamp.exceptAll(time_travel_version_0).show()"
   ]
  },
  {
   "cell_type": "code",
   "execution_count": 19,
   "metadata": {},
   "outputs": [],
   "source": [
    "df_user = (\n",
    "    spark\n",
    "    .read\n",
    "    .format(\"json\")\n",
    "    .load(\"../datalake/landing-zone/user\")\n",
    "    .select(\"user_id\", \"email\") #remove gender\n",
    ")\n",
    "\n",
    "(\n",
    "    df_user\n",
    "    .write\n",
    "    .format(\"delta\")\n",
    "    .mode(\"overwrite\")\n",
    "    .option(\"mergeSchema\", True)\n",
    "    .save(\"../datalake/bronze/user\")\n",
    ")"
   ]
  },
  {
   "cell_type": "code",
   "execution_count": 20,
   "metadata": {},
   "outputs": [
    {
     "name": "stdout",
     "output_type": "stream",
     "text": [
      "+-------+---------------------------+\n",
      "|user_id|email                      |\n",
      "+-------+---------------------------+\n",
      "|3395   |marcos.collier@email.com   |\n",
      "|1556   |elina.hills@email.com      |\n",
      "|1879   |enedina.schroeder@email.com|\n",
      "|7805   |colin.ryan@email.com       |\n",
      "|3982   |dallas.boyle@email.com     |\n",
      "+-------+---------------------------+\n",
      "only showing top 5 rows\n",
      "\n"
     ]
    }
   ],
   "source": [
    "df_merge_schema = (\n",
    "    spark\n",
    "    .read\n",
    "    .format(\"delta\")\n",
    "    .load(\"../datalake/bronze/user\")\n",
    "    .show(n=5, truncate=False)\n",
    ")"
   ]
  },
  {
   "cell_type": "code",
   "execution_count": 21,
   "metadata": {},
   "outputs": [
    {
     "name": "stdout",
     "output_type": "stream",
     "text": [
      "+-------+-----------------------+\n",
      "|user_id|email                  |\n",
      "+-------+-----------------------+\n",
      "|1703   |daron.bailey@email.com |\n",
      "|3650   |jonah.barrows@email.com|\n",
      "|8809   |carla.hansen@email.com |\n",
      "|4606   |tomas.ledner@email.com |\n",
      "|1      |alyse.ortiz@email.com  |\n",
      "+-------+-----------------------+\n",
      "only showing top 5 rows\n",
      "\n"
     ]
    }
   ],
   "source": [
    "df_user = (\n",
    "    spark\n",
    "    .read\n",
    "    .format(\"json\")\n",
    "    .load(\"../datalake/landing-zone/user\")\n",
    "    .select(\"user_id\", \"email\") #remove gender\n",
    ")\n",
    "\n",
    "df_user.show(truncate=False, n=5)\n",
    "\n",
    "(\n",
    "    df_user\n",
    "    .repartition(10)\n",
    "    .write\n",
    "    .format(\"delta\")\n",
    "    .mode(\"overwrite\")\n",
    "    .option(\"overwriteSchema\", True)\n",
    "    .save(\"../datalake/bronze/user\")\n",
    ")"
   ]
  },
  {
   "cell_type": "code",
   "execution_count": 22,
   "metadata": {},
   "outputs": [
    {
     "name": "stdout",
     "output_type": "stream",
     "text": [
      "+-------+------------------------+\n",
      "|user_id|email                   |\n",
      "+-------+------------------------+\n",
      "|9725   |garfield.kunze@email.com|\n",
      "|7110   |aubrey.blanda@email.com |\n",
      "|2017   |ursula.howell@email.com |\n",
      "|720    |taneka.mayer@email.com  |\n",
      "|9266   |pablo.tromp@email.com   |\n",
      "+-------+------------------------+\n",
      "only showing top 5 rows\n",
      "\n"
     ]
    }
   ],
   "source": [
    "df_merge_schema = (\n",
    "    spark\n",
    "    .read\n",
    "    .format(\"delta\")\n",
    "    .load(\"../datalake/bronze/user\")\n",
    "    .show(n=5, truncate=False)\n",
    ")"
   ]
  },
  {
   "cell_type": "code",
   "execution_count": 23,
   "metadata": {},
   "outputs": [],
   "source": [
    "deltaTable = DeltaTable.forPath(spark, \"../datalake/bronze/user\")\n",
    "deltaTable.generate(\"symlink_format_manifest\")"
   ]
  },
  {
   "cell_type": "code",
   "execution_count": 24,
   "metadata": {},
   "outputs": [],
   "source": [
    "# deltaTable = DeltaTable.convertToDelta(spark, f\"parquet.`../datalake-in-parquet/user`\")"
   ]
  }
 ],
 "metadata": {
  "kernelspec": {
   "display_name": "Python 3.10.4 64-bit",
   "language": "python",
   "name": "python3"
  },
  "language_info": {
   "codemirror_mode": {
    "name": "ipython",
    "version": 3
   },
   "file_extension": ".py",
   "mimetype": "text/x-python",
   "name": "python",
   "nbconvert_exporter": "python",
   "pygments_lexer": "ipython3",
   "version": "3.10.4"
  },
  "orig_nbformat": 4,
  "vscode": {
   "interpreter": {
    "hash": "916dbcbb3f70747c44a77c7bcd40155683ae19c65e1c03b4aa3499c5328201f1"
   }
  }
 },
 "nbformat": 4,
 "nbformat_minor": 2
}
